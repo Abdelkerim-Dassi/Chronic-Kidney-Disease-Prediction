{
  "nbformat": 4,
  "nbformat_minor": 0,
  "metadata": {
    "colab": {
      "provenance": []
    },
    "kernelspec": {
      "name": "python3",
      "display_name": "Python 3"
    },
    "language_info": {
      "name": "python"
    },
    "accelerator": "GPU",
    "gpuClass": "standard"
  },
  "cells": [
    {
      "cell_type": "markdown",
      "source": [
        "**<h3>Import required libraries</h3>**"
      ],
      "metadata": {
        "id": "lzwgQKhMApCi"
      }
    },
    {
      "cell_type": "code",
      "execution_count": null,
      "metadata": {
        "id": "uKL9BFiMhQq9"
      },
      "outputs": [],
      "source": [
        "import pandas as pd\n",
        "import numpy as np\n",
        "from sklearn.preprocessing import StandardScaler\n",
        "import matplotlib.pyplot as plt\n",
        "import seaborn as sns \n",
        "from sklearn.svm import SVC\n",
        "from sklearn.tree import DecisionTreeClassifier\n",
        "from sklearn.ensemble import RandomForestClassifier\n",
        "from sklearn.feature_selection import RFECV\n",
        "from sklearn.utils import shuffle"
      ]
    },
    {
      "cell_type": "markdown",
      "source": [
        "**<h2>1. Load the Dataset</h2>**\n"
      ],
      "metadata": {
        "id": "r-5r4o6WBDu7"
      }
    },
    {
      "cell_type": "code",
      "source": [
        "df=pd.read_csv(\"http://raw.githubusercontent.com/wajdi-22/kidney_disease/main/data.csv\")"
      ],
      "metadata": {
        "id": "UDviyPohkmSD"
      },
      "execution_count": null,
      "outputs": []
    },
    {
      "cell_type": "code",
      "source": [
        "df"
      ],
      "metadata": {
        "colab": {
          "base_uri": "https://localhost:8080/",
          "height": 424
        },
        "id": "jsqtNwtXBjYr",
        "outputId": "29b62b34-18f1-47bf-b889-58a4f250bc10"
      },
      "execution_count": null,
      "outputs": [
        {
          "output_type": "execute_result",
          "data": {
            "text/plain": [
              "      id age  bp     sg al su     rbc        pc         pcc          ba  ...  \\\n",
              "0      1  48  80   1.02  1  0       ?    normal  notpresent  notpresent  ...   \n",
              "1      2   7  50   1.02  4  0       ?    normal  notpresent  notpresent  ...   \n",
              "2      3  62  80   1.01  2  3  normal    normal  notpresent  notpresent  ...   \n",
              "3      4  48  70  1.005  4  0  normal  abnormal     present  notpresent  ...   \n",
              "4      5  51  80   1.01  2  0  normal    normal  notpresent  notpresent  ...   \n",
              "..   ...  ..  ..    ... .. ..     ...       ...         ...         ...  ...   \n",
              "395  396  55  80   1.02  0  0  normal    normal  notpresent  notpresent  ...   \n",
              "396  397  42  70  1.025  0  0  normal    normal  notpresent  notpresent  ...   \n",
              "397  398  12  80   1.02  0  0  normal    normal  notpresent  notpresent  ...   \n",
              "398  399  17  60  1.025  0  0  normal    normal  notpresent  notpresent  ...   \n",
              "399  400  58  80  1.025  0  0  normal    normal  notpresent  notpresent  ...   \n",
              "\n",
              "    pcv  wbcc rbcc  htn   dm cad appet   pe  ane classification  \n",
              "0    44  7800  5.2  yes  yes  no  good   no   no            ckd  \n",
              "1    38  6000    ?   no   no  no  good   no   no            ckd  \n",
              "2    31  7500    ?   no  yes  no  poor   no  yes            ckd  \n",
              "3    32  6700  3.9  yes   no  no  poor  yes  yes            ckd  \n",
              "4    35  7300  4.6   no   no  no  good   no   no            ckd  \n",
              "..   ..   ...  ...  ...  ...  ..   ...  ...  ...            ...  \n",
              "395  47  6700  4.9   no   no  no  good   no   no         notckd  \n",
              "396  54  7800  6.2   no   no  no  good   no   no         notckd  \n",
              "397  49  6600  5.4   no   no  no  good   no   no         notckd  \n",
              "398  51  7200  5.9   no   no  no  good   no   no         notckd  \n",
              "399  53  6800  6.1   no   no  no  good   no   no         notckd  \n",
              "\n",
              "[400 rows x 26 columns]"
            ],
            "text/html": [
              "\n",
              "  <div id=\"df-9046d343-f535-4361-bde8-7f936605d981\">\n",
              "    <div class=\"colab-df-container\">\n",
              "      <div>\n",
              "<style scoped>\n",
              "    .dataframe tbody tr th:only-of-type {\n",
              "        vertical-align: middle;\n",
              "    }\n",
              "\n",
              "    .dataframe tbody tr th {\n",
              "        vertical-align: top;\n",
              "    }\n",
              "\n",
              "    .dataframe thead th {\n",
              "        text-align: right;\n",
              "    }\n",
              "</style>\n",
              "<table border=\"1\" class=\"dataframe\">\n",
              "  <thead>\n",
              "    <tr style=\"text-align: right;\">\n",
              "      <th></th>\n",
              "      <th>id</th>\n",
              "      <th>age</th>\n",
              "      <th>bp</th>\n",
              "      <th>sg</th>\n",
              "      <th>al</th>\n",
              "      <th>su</th>\n",
              "      <th>rbc</th>\n",
              "      <th>pc</th>\n",
              "      <th>pcc</th>\n",
              "      <th>ba</th>\n",
              "      <th>...</th>\n",
              "      <th>pcv</th>\n",
              "      <th>wbcc</th>\n",
              "      <th>rbcc</th>\n",
              "      <th>htn</th>\n",
              "      <th>dm</th>\n",
              "      <th>cad</th>\n",
              "      <th>appet</th>\n",
              "      <th>pe</th>\n",
              "      <th>ane</th>\n",
              "      <th>classification</th>\n",
              "    </tr>\n",
              "  </thead>\n",
              "  <tbody>\n",
              "    <tr>\n",
              "      <th>0</th>\n",
              "      <td>1</td>\n",
              "      <td>48</td>\n",
              "      <td>80</td>\n",
              "      <td>1.02</td>\n",
              "      <td>1</td>\n",
              "      <td>0</td>\n",
              "      <td>?</td>\n",
              "      <td>normal</td>\n",
              "      <td>notpresent</td>\n",
              "      <td>notpresent</td>\n",
              "      <td>...</td>\n",
              "      <td>44</td>\n",
              "      <td>7800</td>\n",
              "      <td>5.2</td>\n",
              "      <td>yes</td>\n",
              "      <td>yes</td>\n",
              "      <td>no</td>\n",
              "      <td>good</td>\n",
              "      <td>no</td>\n",
              "      <td>no</td>\n",
              "      <td>ckd</td>\n",
              "    </tr>\n",
              "    <tr>\n",
              "      <th>1</th>\n",
              "      <td>2</td>\n",
              "      <td>7</td>\n",
              "      <td>50</td>\n",
              "      <td>1.02</td>\n",
              "      <td>4</td>\n",
              "      <td>0</td>\n",
              "      <td>?</td>\n",
              "      <td>normal</td>\n",
              "      <td>notpresent</td>\n",
              "      <td>notpresent</td>\n",
              "      <td>...</td>\n",
              "      <td>38</td>\n",
              "      <td>6000</td>\n",
              "      <td>?</td>\n",
              "      <td>no</td>\n",
              "      <td>no</td>\n",
              "      <td>no</td>\n",
              "      <td>good</td>\n",
              "      <td>no</td>\n",
              "      <td>no</td>\n",
              "      <td>ckd</td>\n",
              "    </tr>\n",
              "    <tr>\n",
              "      <th>2</th>\n",
              "      <td>3</td>\n",
              "      <td>62</td>\n",
              "      <td>80</td>\n",
              "      <td>1.01</td>\n",
              "      <td>2</td>\n",
              "      <td>3</td>\n",
              "      <td>normal</td>\n",
              "      <td>normal</td>\n",
              "      <td>notpresent</td>\n",
              "      <td>notpresent</td>\n",
              "      <td>...</td>\n",
              "      <td>31</td>\n",
              "      <td>7500</td>\n",
              "      <td>?</td>\n",
              "      <td>no</td>\n",
              "      <td>yes</td>\n",
              "      <td>no</td>\n",
              "      <td>poor</td>\n",
              "      <td>no</td>\n",
              "      <td>yes</td>\n",
              "      <td>ckd</td>\n",
              "    </tr>\n",
              "    <tr>\n",
              "      <th>3</th>\n",
              "      <td>4</td>\n",
              "      <td>48</td>\n",
              "      <td>70</td>\n",
              "      <td>1.005</td>\n",
              "      <td>4</td>\n",
              "      <td>0</td>\n",
              "      <td>normal</td>\n",
              "      <td>abnormal</td>\n",
              "      <td>present</td>\n",
              "      <td>notpresent</td>\n",
              "      <td>...</td>\n",
              "      <td>32</td>\n",
              "      <td>6700</td>\n",
              "      <td>3.9</td>\n",
              "      <td>yes</td>\n",
              "      <td>no</td>\n",
              "      <td>no</td>\n",
              "      <td>poor</td>\n",
              "      <td>yes</td>\n",
              "      <td>yes</td>\n",
              "      <td>ckd</td>\n",
              "    </tr>\n",
              "    <tr>\n",
              "      <th>4</th>\n",
              "      <td>5</td>\n",
              "      <td>51</td>\n",
              "      <td>80</td>\n",
              "      <td>1.01</td>\n",
              "      <td>2</td>\n",
              "      <td>0</td>\n",
              "      <td>normal</td>\n",
              "      <td>normal</td>\n",
              "      <td>notpresent</td>\n",
              "      <td>notpresent</td>\n",
              "      <td>...</td>\n",
              "      <td>35</td>\n",
              "      <td>7300</td>\n",
              "      <td>4.6</td>\n",
              "      <td>no</td>\n",
              "      <td>no</td>\n",
              "      <td>no</td>\n",
              "      <td>good</td>\n",
              "      <td>no</td>\n",
              "      <td>no</td>\n",
              "      <td>ckd</td>\n",
              "    </tr>\n",
              "    <tr>\n",
              "      <th>...</th>\n",
              "      <td>...</td>\n",
              "      <td>...</td>\n",
              "      <td>...</td>\n",
              "      <td>...</td>\n",
              "      <td>...</td>\n",
              "      <td>...</td>\n",
              "      <td>...</td>\n",
              "      <td>...</td>\n",
              "      <td>...</td>\n",
              "      <td>...</td>\n",
              "      <td>...</td>\n",
              "      <td>...</td>\n",
              "      <td>...</td>\n",
              "      <td>...</td>\n",
              "      <td>...</td>\n",
              "      <td>...</td>\n",
              "      <td>...</td>\n",
              "      <td>...</td>\n",
              "      <td>...</td>\n",
              "      <td>...</td>\n",
              "      <td>...</td>\n",
              "    </tr>\n",
              "    <tr>\n",
              "      <th>395</th>\n",
              "      <td>396</td>\n",
              "      <td>55</td>\n",
              "      <td>80</td>\n",
              "      <td>1.02</td>\n",
              "      <td>0</td>\n",
              "      <td>0</td>\n",
              "      <td>normal</td>\n",
              "      <td>normal</td>\n",
              "      <td>notpresent</td>\n",
              "      <td>notpresent</td>\n",
              "      <td>...</td>\n",
              "      <td>47</td>\n",
              "      <td>6700</td>\n",
              "      <td>4.9</td>\n",
              "      <td>no</td>\n",
              "      <td>no</td>\n",
              "      <td>no</td>\n",
              "      <td>good</td>\n",
              "      <td>no</td>\n",
              "      <td>no</td>\n",
              "      <td>notckd</td>\n",
              "    </tr>\n",
              "    <tr>\n",
              "      <th>396</th>\n",
              "      <td>397</td>\n",
              "      <td>42</td>\n",
              "      <td>70</td>\n",
              "      <td>1.025</td>\n",
              "      <td>0</td>\n",
              "      <td>0</td>\n",
              "      <td>normal</td>\n",
              "      <td>normal</td>\n",
              "      <td>notpresent</td>\n",
              "      <td>notpresent</td>\n",
              "      <td>...</td>\n",
              "      <td>54</td>\n",
              "      <td>7800</td>\n",
              "      <td>6.2</td>\n",
              "      <td>no</td>\n",
              "      <td>no</td>\n",
              "      <td>no</td>\n",
              "      <td>good</td>\n",
              "      <td>no</td>\n",
              "      <td>no</td>\n",
              "      <td>notckd</td>\n",
              "    </tr>\n",
              "    <tr>\n",
              "      <th>397</th>\n",
              "      <td>398</td>\n",
              "      <td>12</td>\n",
              "      <td>80</td>\n",
              "      <td>1.02</td>\n",
              "      <td>0</td>\n",
              "      <td>0</td>\n",
              "      <td>normal</td>\n",
              "      <td>normal</td>\n",
              "      <td>notpresent</td>\n",
              "      <td>notpresent</td>\n",
              "      <td>...</td>\n",
              "      <td>49</td>\n",
              "      <td>6600</td>\n",
              "      <td>5.4</td>\n",
              "      <td>no</td>\n",
              "      <td>no</td>\n",
              "      <td>no</td>\n",
              "      <td>good</td>\n",
              "      <td>no</td>\n",
              "      <td>no</td>\n",
              "      <td>notckd</td>\n",
              "    </tr>\n",
              "    <tr>\n",
              "      <th>398</th>\n",
              "      <td>399</td>\n",
              "      <td>17</td>\n",
              "      <td>60</td>\n",
              "      <td>1.025</td>\n",
              "      <td>0</td>\n",
              "      <td>0</td>\n",
              "      <td>normal</td>\n",
              "      <td>normal</td>\n",
              "      <td>notpresent</td>\n",
              "      <td>notpresent</td>\n",
              "      <td>...</td>\n",
              "      <td>51</td>\n",
              "      <td>7200</td>\n",
              "      <td>5.9</td>\n",
              "      <td>no</td>\n",
              "      <td>no</td>\n",
              "      <td>no</td>\n",
              "      <td>good</td>\n",
              "      <td>no</td>\n",
              "      <td>no</td>\n",
              "      <td>notckd</td>\n",
              "    </tr>\n",
              "    <tr>\n",
              "      <th>399</th>\n",
              "      <td>400</td>\n",
              "      <td>58</td>\n",
              "      <td>80</td>\n",
              "      <td>1.025</td>\n",
              "      <td>0</td>\n",
              "      <td>0</td>\n",
              "      <td>normal</td>\n",
              "      <td>normal</td>\n",
              "      <td>notpresent</td>\n",
              "      <td>notpresent</td>\n",
              "      <td>...</td>\n",
              "      <td>53</td>\n",
              "      <td>6800</td>\n",
              "      <td>6.1</td>\n",
              "      <td>no</td>\n",
              "      <td>no</td>\n",
              "      <td>no</td>\n",
              "      <td>good</td>\n",
              "      <td>no</td>\n",
              "      <td>no</td>\n",
              "      <td>notckd</td>\n",
              "    </tr>\n",
              "  </tbody>\n",
              "</table>\n",
              "<p>400 rows × 26 columns</p>\n",
              "</div>\n",
              "      <button class=\"colab-df-convert\" onclick=\"convertToInteractive('df-9046d343-f535-4361-bde8-7f936605d981')\"\n",
              "              title=\"Convert this dataframe to an interactive table.\"\n",
              "              style=\"display:none;\">\n",
              "        \n",
              "  <svg xmlns=\"http://www.w3.org/2000/svg\" height=\"24px\"viewBox=\"0 0 24 24\"\n",
              "       width=\"24px\">\n",
              "    <path d=\"M0 0h24v24H0V0z\" fill=\"none\"/>\n",
              "    <path d=\"M18.56 5.44l.94 2.06.94-2.06 2.06-.94-2.06-.94-.94-2.06-.94 2.06-2.06.94zm-11 1L8.5 8.5l.94-2.06 2.06-.94-2.06-.94L8.5 2.5l-.94 2.06-2.06.94zm10 10l.94 2.06.94-2.06 2.06-.94-2.06-.94-.94-2.06-.94 2.06-2.06.94z\"/><path d=\"M17.41 7.96l-1.37-1.37c-.4-.4-.92-.59-1.43-.59-.52 0-1.04.2-1.43.59L10.3 9.45l-7.72 7.72c-.78.78-.78 2.05 0 2.83L4 21.41c.39.39.9.59 1.41.59.51 0 1.02-.2 1.41-.59l7.78-7.78 2.81-2.81c.8-.78.8-2.07 0-2.86zM5.41 20L4 18.59l7.72-7.72 1.47 1.35L5.41 20z\"/>\n",
              "  </svg>\n",
              "      </button>\n",
              "      \n",
              "  <style>\n",
              "    .colab-df-container {\n",
              "      display:flex;\n",
              "      flex-wrap:wrap;\n",
              "      gap: 12px;\n",
              "    }\n",
              "\n",
              "    .colab-df-convert {\n",
              "      background-color: #E8F0FE;\n",
              "      border: none;\n",
              "      border-radius: 50%;\n",
              "      cursor: pointer;\n",
              "      display: none;\n",
              "      fill: #1967D2;\n",
              "      height: 32px;\n",
              "      padding: 0 0 0 0;\n",
              "      width: 32px;\n",
              "    }\n",
              "\n",
              "    .colab-df-convert:hover {\n",
              "      background-color: #E2EBFA;\n",
              "      box-shadow: 0px 1px 2px rgba(60, 64, 67, 0.3), 0px 1px 3px 1px rgba(60, 64, 67, 0.15);\n",
              "      fill: #174EA6;\n",
              "    }\n",
              "\n",
              "    [theme=dark] .colab-df-convert {\n",
              "      background-color: #3B4455;\n",
              "      fill: #D2E3FC;\n",
              "    }\n",
              "\n",
              "    [theme=dark] .colab-df-convert:hover {\n",
              "      background-color: #434B5C;\n",
              "      box-shadow: 0px 1px 3px 1px rgba(0, 0, 0, 0.15);\n",
              "      filter: drop-shadow(0px 1px 2px rgba(0, 0, 0, 0.3));\n",
              "      fill: #FFFFFF;\n",
              "    }\n",
              "  </style>\n",
              "\n",
              "      <script>\n",
              "        const buttonEl =\n",
              "          document.querySelector('#df-9046d343-f535-4361-bde8-7f936605d981 button.colab-df-convert');\n",
              "        buttonEl.style.display =\n",
              "          google.colab.kernel.accessAllowed ? 'block' : 'none';\n",
              "\n",
              "        async function convertToInteractive(key) {\n",
              "          const element = document.querySelector('#df-9046d343-f535-4361-bde8-7f936605d981');\n",
              "          const dataTable =\n",
              "            await google.colab.kernel.invokeFunction('convertToInteractive',\n",
              "                                                     [key], {});\n",
              "          if (!dataTable) return;\n",
              "\n",
              "          const docLinkHtml = 'Like what you see? Visit the ' +\n",
              "            '<a target=\"_blank\" href=https://colab.research.google.com/notebooks/data_table.ipynb>data table notebook</a>'\n",
              "            + ' to learn more about interactive tables.';\n",
              "          element.innerHTML = '';\n",
              "          dataTable['output_type'] = 'display_data';\n",
              "          await google.colab.output.renderOutput(dataTable, element);\n",
              "          const docLink = document.createElement('div');\n",
              "          docLink.innerHTML = docLinkHtml;\n",
              "          element.appendChild(docLink);\n",
              "        }\n",
              "      </script>\n",
              "    </div>\n",
              "  </div>\n",
              "  "
            ]
          },
          "metadata": {},
          "execution_count": 3
        }
      ]
    },
    {
      "cell_type": "code",
      "source": [
        "df.shape"
      ],
      "metadata": {
        "colab": {
          "base_uri": "https://localhost:8080/"
        },
        "id": "2yyntGlFBkq9",
        "outputId": "c52f0ccf-2ff4-430d-8005-141c7e2175f3"
      },
      "execution_count": null,
      "outputs": [
        {
          "output_type": "execute_result",
          "data": {
            "text/plain": [
              "(400, 26)"
            ]
          },
          "metadata": {},
          "execution_count": 4
        }
      ]
    },
    {
      "cell_type": "code",
      "source": [
        "df = shuffle(df,random_state=42)\n",
        "df.shape"
      ],
      "metadata": {
        "id": "mmX6qnnw2MoC",
        "colab": {
          "base_uri": "https://localhost:8080/"
        },
        "outputId": "f80be09a-d158-4bc9-fc55-0ea75d6ee44a"
      },
      "execution_count": null,
      "outputs": [
        {
          "output_type": "execute_result",
          "data": {
            "text/plain": [
              "(400, 26)"
            ]
          },
          "metadata": {},
          "execution_count": 5
        }
      ]
    },
    {
      "cell_type": "code",
      "source": [
        "# Check out the  dataset\n",
        "df.head()"
      ],
      "metadata": {
        "id": "NHgObsmmhYar",
        "colab": {
          "base_uri": "https://localhost:8080/",
          "height": 235
        },
        "outputId": "f6a3bb5a-8272-4005-c6ac-c36e061edeb2"
      },
      "execution_count": null,
      "outputs": [
        {
          "output_type": "execute_result",
          "data": {
            "text/plain": [
              "      id age   bp     sg al su       rbc        pc         pcc          ba  \\\n",
              "209  210  19   70   1.02  0  0         ?    normal  notpresent  notpresent   \n",
              "280  281  47   80      ?  ?  ?         ?         ?  notpresent  notpresent   \n",
              "33    34  60  100   1.02  2  0  abnormal  abnormal  notpresent  notpresent   \n",
              "210  211  59  100  1.015  4  2    normal    normal  notpresent  notpresent   \n",
              "93    94  73  100   1.01  3  2  abnormal  abnormal     present  notpresent   \n",
              "\n",
              "     ... pcv  wbcc rbcc  htn   dm  cad appet  pe  ane classification  \n",
              "209  ...   ?  6900    ?   no   no   no  good  no   no            ckd  \n",
              "280  ...  52  8100  5.2   no   no   no  good  no   no         notckd  \n",
              "33   ...  29     ?    ?  yes   no   no  poor  no   no            ckd  \n",
              "210  ...  20  9800  3.9  yes  yes  yes  good  no  yes            ckd  \n",
              "93   ...  30  7000  3.2  yes  yes  yes  poor  no   no            ckd  \n",
              "\n",
              "[5 rows x 26 columns]"
            ],
            "text/html": [
              "\n",
              "  <div id=\"df-674b1720-967b-4f51-84da-0b99943402c3\">\n",
              "    <div class=\"colab-df-container\">\n",
              "      <div>\n",
              "<style scoped>\n",
              "    .dataframe tbody tr th:only-of-type {\n",
              "        vertical-align: middle;\n",
              "    }\n",
              "\n",
              "    .dataframe tbody tr th {\n",
              "        vertical-align: top;\n",
              "    }\n",
              "\n",
              "    .dataframe thead th {\n",
              "        text-align: right;\n",
              "    }\n",
              "</style>\n",
              "<table border=\"1\" class=\"dataframe\">\n",
              "  <thead>\n",
              "    <tr style=\"text-align: right;\">\n",
              "      <th></th>\n",
              "      <th>id</th>\n",
              "      <th>age</th>\n",
              "      <th>bp</th>\n",
              "      <th>sg</th>\n",
              "      <th>al</th>\n",
              "      <th>su</th>\n",
              "      <th>rbc</th>\n",
              "      <th>pc</th>\n",
              "      <th>pcc</th>\n",
              "      <th>ba</th>\n",
              "      <th>...</th>\n",
              "      <th>pcv</th>\n",
              "      <th>wbcc</th>\n",
              "      <th>rbcc</th>\n",
              "      <th>htn</th>\n",
              "      <th>dm</th>\n",
              "      <th>cad</th>\n",
              "      <th>appet</th>\n",
              "      <th>pe</th>\n",
              "      <th>ane</th>\n",
              "      <th>classification</th>\n",
              "    </tr>\n",
              "  </thead>\n",
              "  <tbody>\n",
              "    <tr>\n",
              "      <th>209</th>\n",
              "      <td>210</td>\n",
              "      <td>19</td>\n",
              "      <td>70</td>\n",
              "      <td>1.02</td>\n",
              "      <td>0</td>\n",
              "      <td>0</td>\n",
              "      <td>?</td>\n",
              "      <td>normal</td>\n",
              "      <td>notpresent</td>\n",
              "      <td>notpresent</td>\n",
              "      <td>...</td>\n",
              "      <td>?</td>\n",
              "      <td>6900</td>\n",
              "      <td>?</td>\n",
              "      <td>no</td>\n",
              "      <td>no</td>\n",
              "      <td>no</td>\n",
              "      <td>good</td>\n",
              "      <td>no</td>\n",
              "      <td>no</td>\n",
              "      <td>ckd</td>\n",
              "    </tr>\n",
              "    <tr>\n",
              "      <th>280</th>\n",
              "      <td>281</td>\n",
              "      <td>47</td>\n",
              "      <td>80</td>\n",
              "      <td>?</td>\n",
              "      <td>?</td>\n",
              "      <td>?</td>\n",
              "      <td>?</td>\n",
              "      <td>?</td>\n",
              "      <td>notpresent</td>\n",
              "      <td>notpresent</td>\n",
              "      <td>...</td>\n",
              "      <td>52</td>\n",
              "      <td>8100</td>\n",
              "      <td>5.2</td>\n",
              "      <td>no</td>\n",
              "      <td>no</td>\n",
              "      <td>no</td>\n",
              "      <td>good</td>\n",
              "      <td>no</td>\n",
              "      <td>no</td>\n",
              "      <td>notckd</td>\n",
              "    </tr>\n",
              "    <tr>\n",
              "      <th>33</th>\n",
              "      <td>34</td>\n",
              "      <td>60</td>\n",
              "      <td>100</td>\n",
              "      <td>1.02</td>\n",
              "      <td>2</td>\n",
              "      <td>0</td>\n",
              "      <td>abnormal</td>\n",
              "      <td>abnormal</td>\n",
              "      <td>notpresent</td>\n",
              "      <td>notpresent</td>\n",
              "      <td>...</td>\n",
              "      <td>29</td>\n",
              "      <td>?</td>\n",
              "      <td>?</td>\n",
              "      <td>yes</td>\n",
              "      <td>no</td>\n",
              "      <td>no</td>\n",
              "      <td>poor</td>\n",
              "      <td>no</td>\n",
              "      <td>no</td>\n",
              "      <td>ckd</td>\n",
              "    </tr>\n",
              "    <tr>\n",
              "      <th>210</th>\n",
              "      <td>211</td>\n",
              "      <td>59</td>\n",
              "      <td>100</td>\n",
              "      <td>1.015</td>\n",
              "      <td>4</td>\n",
              "      <td>2</td>\n",
              "      <td>normal</td>\n",
              "      <td>normal</td>\n",
              "      <td>notpresent</td>\n",
              "      <td>notpresent</td>\n",
              "      <td>...</td>\n",
              "      <td>20</td>\n",
              "      <td>9800</td>\n",
              "      <td>3.9</td>\n",
              "      <td>yes</td>\n",
              "      <td>yes</td>\n",
              "      <td>yes</td>\n",
              "      <td>good</td>\n",
              "      <td>no</td>\n",
              "      <td>yes</td>\n",
              "      <td>ckd</td>\n",
              "    </tr>\n",
              "    <tr>\n",
              "      <th>93</th>\n",
              "      <td>94</td>\n",
              "      <td>73</td>\n",
              "      <td>100</td>\n",
              "      <td>1.01</td>\n",
              "      <td>3</td>\n",
              "      <td>2</td>\n",
              "      <td>abnormal</td>\n",
              "      <td>abnormal</td>\n",
              "      <td>present</td>\n",
              "      <td>notpresent</td>\n",
              "      <td>...</td>\n",
              "      <td>30</td>\n",
              "      <td>7000</td>\n",
              "      <td>3.2</td>\n",
              "      <td>yes</td>\n",
              "      <td>yes</td>\n",
              "      <td>yes</td>\n",
              "      <td>poor</td>\n",
              "      <td>no</td>\n",
              "      <td>no</td>\n",
              "      <td>ckd</td>\n",
              "    </tr>\n",
              "  </tbody>\n",
              "</table>\n",
              "<p>5 rows × 26 columns</p>\n",
              "</div>\n",
              "      <button class=\"colab-df-convert\" onclick=\"convertToInteractive('df-674b1720-967b-4f51-84da-0b99943402c3')\"\n",
              "              title=\"Convert this dataframe to an interactive table.\"\n",
              "              style=\"display:none;\">\n",
              "        \n",
              "  <svg xmlns=\"http://www.w3.org/2000/svg\" height=\"24px\"viewBox=\"0 0 24 24\"\n",
              "       width=\"24px\">\n",
              "    <path d=\"M0 0h24v24H0V0z\" fill=\"none\"/>\n",
              "    <path d=\"M18.56 5.44l.94 2.06.94-2.06 2.06-.94-2.06-.94-.94-2.06-.94 2.06-2.06.94zm-11 1L8.5 8.5l.94-2.06 2.06-.94-2.06-.94L8.5 2.5l-.94 2.06-2.06.94zm10 10l.94 2.06.94-2.06 2.06-.94-2.06-.94-.94-2.06-.94 2.06-2.06.94z\"/><path d=\"M17.41 7.96l-1.37-1.37c-.4-.4-.92-.59-1.43-.59-.52 0-1.04.2-1.43.59L10.3 9.45l-7.72 7.72c-.78.78-.78 2.05 0 2.83L4 21.41c.39.39.9.59 1.41.59.51 0 1.02-.2 1.41-.59l7.78-7.78 2.81-2.81c.8-.78.8-2.07 0-2.86zM5.41 20L4 18.59l7.72-7.72 1.47 1.35L5.41 20z\"/>\n",
              "  </svg>\n",
              "      </button>\n",
              "      \n",
              "  <style>\n",
              "    .colab-df-container {\n",
              "      display:flex;\n",
              "      flex-wrap:wrap;\n",
              "      gap: 12px;\n",
              "    }\n",
              "\n",
              "    .colab-df-convert {\n",
              "      background-color: #E8F0FE;\n",
              "      border: none;\n",
              "      border-radius: 50%;\n",
              "      cursor: pointer;\n",
              "      display: none;\n",
              "      fill: #1967D2;\n",
              "      height: 32px;\n",
              "      padding: 0 0 0 0;\n",
              "      width: 32px;\n",
              "    }\n",
              "\n",
              "    .colab-df-convert:hover {\n",
              "      background-color: #E2EBFA;\n",
              "      box-shadow: 0px 1px 2px rgba(60, 64, 67, 0.3), 0px 1px 3px 1px rgba(60, 64, 67, 0.15);\n",
              "      fill: #174EA6;\n",
              "    }\n",
              "\n",
              "    [theme=dark] .colab-df-convert {\n",
              "      background-color: #3B4455;\n",
              "      fill: #D2E3FC;\n",
              "    }\n",
              "\n",
              "    [theme=dark] .colab-df-convert:hover {\n",
              "      background-color: #434B5C;\n",
              "      box-shadow: 0px 1px 3px 1px rgba(0, 0, 0, 0.15);\n",
              "      filter: drop-shadow(0px 1px 2px rgba(0, 0, 0, 0.3));\n",
              "      fill: #FFFFFF;\n",
              "    }\n",
              "  </style>\n",
              "\n",
              "      <script>\n",
              "        const buttonEl =\n",
              "          document.querySelector('#df-674b1720-967b-4f51-84da-0b99943402c3 button.colab-df-convert');\n",
              "        buttonEl.style.display =\n",
              "          google.colab.kernel.accessAllowed ? 'block' : 'none';\n",
              "\n",
              "        async function convertToInteractive(key) {\n",
              "          const element = document.querySelector('#df-674b1720-967b-4f51-84da-0b99943402c3');\n",
              "          const dataTable =\n",
              "            await google.colab.kernel.invokeFunction('convertToInteractive',\n",
              "                                                     [key], {});\n",
              "          if (!dataTable) return;\n",
              "\n",
              "          const docLinkHtml = 'Like what you see? Visit the ' +\n",
              "            '<a target=\"_blank\" href=https://colab.research.google.com/notebooks/data_table.ipynb>data table notebook</a>'\n",
              "            + ' to learn more about interactive tables.';\n",
              "          element.innerHTML = '';\n",
              "          dataTable['output_type'] = 'display_data';\n",
              "          await google.colab.output.renderOutput(dataTable, element);\n",
              "          const docLink = document.createElement('div');\n",
              "          docLink.innerHTML = docLinkHtml;\n",
              "          element.appendChild(docLink);\n",
              "        }\n",
              "      </script>\n",
              "    </div>\n",
              "  </div>\n",
              "  "
            ]
          },
          "metadata": {},
          "execution_count": 6
        }
      ]
    },
    {
      "cell_type": "markdown",
      "source": [
        "**<h2>2. Preprocessing</h2>**\n"
      ],
      "metadata": {
        "id": "Df2bzBmcCm9X"
      }
    },
    {
      "cell_type": "code",
      "source": [
        "df.classification.unique()"
      ],
      "metadata": {
        "id": "5Sl2NSAPlHZo",
        "colab": {
          "base_uri": "https://localhost:8080/"
        },
        "outputId": "2c6d728f-e37a-453b-984f-2baa4443f494"
      },
      "execution_count": null,
      "outputs": [
        {
          "output_type": "execute_result",
          "data": {
            "text/plain": [
              "array(['ckd', 'notckd'], dtype=object)"
            ]
          },
          "metadata": {},
          "execution_count": 7
        }
      ]
    },
    {
      "cell_type": "code",
      "source": [
        "#check duplicated values\n",
        "df.duplicated(keep=False).sum()"
      ],
      "metadata": {
        "id": "Aj3Q5Jet3Gx4",
        "colab": {
          "base_uri": "https://localhost:8080/"
        },
        "outputId": "5c467281-34e8-4570-95ac-d7d349a6bcd2"
      },
      "execution_count": null,
      "outputs": [
        {
          "output_type": "execute_result",
          "data": {
            "text/plain": [
              "0"
            ]
          },
          "metadata": {},
          "execution_count": 8
        }
      ]
    },
    {
      "cell_type": "code",
      "source": [
        "#check null values\n",
        "df = df.replace('?',np.nan)\n",
        "df.isnull().values.any()"
      ],
      "metadata": {
        "id": "_d3WNPnDh3Tx",
        "colab": {
          "base_uri": "https://localhost:8080/"
        },
        "outputId": "15a4572f-0d67-4c9e-ff42-dbb68b72d1b8"
      },
      "execution_count": null,
      "outputs": [
        {
          "output_type": "execute_result",
          "data": {
            "text/plain": [
              "True"
            ]
          },
          "metadata": {},
          "execution_count": 9
        }
      ]
    },
    {
      "cell_type": "code",
      "source": [
        "df.isnull().sum()"
      ],
      "metadata": {
        "id": "kNaDM2d7l9F-",
        "colab": {
          "base_uri": "https://localhost:8080/"
        },
        "outputId": "da306dca-98f3-443c-a5ea-56179fe416de"
      },
      "execution_count": null,
      "outputs": [
        {
          "output_type": "execute_result",
          "data": {
            "text/plain": [
              "id                  0\n",
              "age                 9\n",
              "bp                 12\n",
              "sg                 47\n",
              "al                 46\n",
              "su                 49\n",
              "rbc               152\n",
              "pc                 65\n",
              "pcc                 4\n",
              "ba                  4\n",
              "bgr                44\n",
              "bu                 19\n",
              "sc                 17\n",
              "sod                87\n",
              "pot                88\n",
              "hemo               52\n",
              "pcv                71\n",
              "wbcc              106\n",
              "rbcc              131\n",
              "htn                 2\n",
              "dm                  2\n",
              "cad                 2\n",
              "appet               1\n",
              "pe                  1\n",
              "ane                 1\n",
              "classification      0\n",
              "dtype: int64"
            ]
          },
          "metadata": {},
          "execution_count": 10
        }
      ]
    },
    {
      "cell_type": "code",
      "source": [
        "df.info()"
      ],
      "metadata": {
        "id": "CvoNlQ0Enz4C",
        "colab": {
          "base_uri": "https://localhost:8080/"
        },
        "outputId": "3914f580-73db-4fd3-8987-6d87f764ebd4"
      },
      "execution_count": null,
      "outputs": [
        {
          "output_type": "stream",
          "name": "stdout",
          "text": [
            "<class 'pandas.core.frame.DataFrame'>\n",
            "Int64Index: 400 entries, 209 to 102\n",
            "Data columns (total 26 columns):\n",
            " #   Column          Non-Null Count  Dtype \n",
            "---  ------          --------------  ----- \n",
            " 0   id              400 non-null    int64 \n",
            " 1   age             391 non-null    object\n",
            " 2   bp              388 non-null    object\n",
            " 3   sg              353 non-null    object\n",
            " 4   al              354 non-null    object\n",
            " 5   su              351 non-null    object\n",
            " 6   rbc             248 non-null    object\n",
            " 7   pc              335 non-null    object\n",
            " 8   pcc             396 non-null    object\n",
            " 9   ba              396 non-null    object\n",
            " 10  bgr             356 non-null    object\n",
            " 11  bu              381 non-null    object\n",
            " 12  sc              383 non-null    object\n",
            " 13  sod             313 non-null    object\n",
            " 14  pot             312 non-null    object\n",
            " 15  hemo            348 non-null    object\n",
            " 16  pcv             329 non-null    object\n",
            " 17  wbcc            294 non-null    object\n",
            " 18  rbcc            269 non-null    object\n",
            " 19  htn             398 non-null    object\n",
            " 20  dm              398 non-null    object\n",
            " 21  cad             398 non-null    object\n",
            " 22  appet           399 non-null    object\n",
            " 23  pe              399 non-null    object\n",
            " 24  ane             399 non-null    object\n",
            " 25  classification  400 non-null    object\n",
            "dtypes: int64(1), object(25)\n",
            "memory usage: 84.4+ KB\n"
          ]
        }
      ]
    },
    {
      "cell_type": "code",
      "source": [
        "num_cols = ['age','bp','rbcc','bgr','bu','sc','sod','pot','hemo','pcv','wbcc']"
      ],
      "metadata": {
        "id": "QiS2eMLUuCyR"
      },
      "execution_count": null,
      "outputs": []
    },
    {
      "cell_type": "code",
      "source": [
        "df[num_cols]=df[num_cols].apply(pd.to_numeric, errors='ignore')"
      ],
      "metadata": {
        "id": "6-i0GW5gPrSd"
      },
      "execution_count": null,
      "outputs": []
    },
    {
      "cell_type": "code",
      "source": [
        "df.info()"
      ],
      "metadata": {
        "colab": {
          "base_uri": "https://localhost:8080/"
        },
        "id": "li93kiWOxt8v",
        "outputId": "10920607-a151-4496-e17d-35823ad0a56c"
      },
      "execution_count": null,
      "outputs": [
        {
          "output_type": "stream",
          "name": "stdout",
          "text": [
            "<class 'pandas.core.frame.DataFrame'>\n",
            "Int64Index: 400 entries, 209 to 102\n",
            "Data columns (total 26 columns):\n",
            " #   Column          Non-Null Count  Dtype  \n",
            "---  ------          --------------  -----  \n",
            " 0   id              400 non-null    int64  \n",
            " 1   age             391 non-null    float64\n",
            " 2   bp              388 non-null    float64\n",
            " 3   sg              353 non-null    object \n",
            " 4   al              354 non-null    object \n",
            " 5   su              351 non-null    object \n",
            " 6   rbc             248 non-null    object \n",
            " 7   pc              335 non-null    object \n",
            " 8   pcc             396 non-null    object \n",
            " 9   ba              396 non-null    object \n",
            " 10  bgr             356 non-null    float64\n",
            " 11  bu              381 non-null    float64\n",
            " 12  sc              383 non-null    float64\n",
            " 13  sod             313 non-null    float64\n",
            " 14  pot             312 non-null    float64\n",
            " 15  hemo            348 non-null    float64\n",
            " 16  pcv             329 non-null    float64\n",
            " 17  wbcc            294 non-null    float64\n",
            " 18  rbcc            269 non-null    float64\n",
            " 19  htn             398 non-null    object \n",
            " 20  dm              398 non-null    object \n",
            " 21  cad             398 non-null    object \n",
            " 22  appet           399 non-null    object \n",
            " 23  pe              399 non-null    object \n",
            " 24  ane             399 non-null    object \n",
            " 25  classification  400 non-null    object \n",
            "dtypes: float64(11), int64(1), object(14)\n",
            "memory usage: 84.4+ KB\n"
          ]
        }
      ]
    },
    {
      "cell_type": "code",
      "source": [
        "cat_cols = [col for col in df.columns if df[col].dtype == 'object']\n",
        "cat_cols"
      ],
      "metadata": {
        "id": "s1MfOaUvyUr2",
        "colab": {
          "base_uri": "https://localhost:8080/"
        },
        "outputId": "73aa36c4-49e6-4a55-a647-1c63681cd791"
      },
      "execution_count": null,
      "outputs": [
        {
          "output_type": "execute_result",
          "data": {
            "text/plain": [
              "['sg',\n",
              " 'al',\n",
              " 'su',\n",
              " 'rbc',\n",
              " 'pc',\n",
              " 'pcc',\n",
              " 'ba',\n",
              " 'htn',\n",
              " 'dm',\n",
              " 'cad',\n",
              " 'appet',\n",
              " 'pe',\n",
              " 'ane',\n",
              " 'classification']"
            ]
          },
          "metadata": {},
          "execution_count": 15
        }
      ]
    },
    {
      "cell_type": "code",
      "source": [
        "for col in cat_cols:\n",
        "    print(f\"{col} has {df[col].unique()} values\\n\")"
      ],
      "metadata": {
        "colab": {
          "base_uri": "https://localhost:8080/"
        },
        "id": "8dcPM5jSuJ5L",
        "outputId": "7bd83c7d-4694-444e-f592-542af6c72604"
      },
      "execution_count": null,
      "outputs": [
        {
          "output_type": "stream",
          "name": "stdout",
          "text": [
            "sg has ['1.02' nan '1.015' '1.01' '1.025' '1.005'] values\n",
            "\n",
            "al has ['0' nan '2' '4' '3' '1' '5'] values\n",
            "\n",
            "su has ['0' nan '2' '4' '3' '5' '1'] values\n",
            "\n",
            "rbc has [nan 'abnormal' 'normal'] values\n",
            "\n",
            "pc has ['normal' nan 'abnormal'] values\n",
            "\n",
            "pcc has ['notpresent' 'present' nan] values\n",
            "\n",
            "ba has ['notpresent' 'present' nan] values\n",
            "\n",
            "htn has ['no' 'yes' nan] values\n",
            "\n",
            "dm has ['no' 'yes' nan] values\n",
            "\n",
            "cad has ['no' 'yes' nan] values\n",
            "\n",
            "appet has ['good' 'poor' nan] values\n",
            "\n",
            "pe has ['no' 'yes' nan] values\n",
            "\n",
            "ane has ['no' 'yes' nan] values\n",
            "\n",
            "classification has ['ckd' 'notckd'] values\n",
            "\n"
          ]
        }
      ]
    },
    {
      "cell_type": "code",
      "source": [
        "df=df.fillna(df.mean())"
      ],
      "metadata": {
        "id": "J98Jl90-rbnr",
        "colab": {
          "base_uri": "https://localhost:8080/"
        },
        "outputId": "a1dc8265-683f-4f7a-db6b-20d28ae5a6e3"
      },
      "execution_count": null,
      "outputs": [
        {
          "output_type": "stream",
          "name": "stderr",
          "text": [
            "<ipython-input-17-6f8c6f28e805>:1: FutureWarning: Dropping of nuisance columns in DataFrame reductions (with 'numeric_only=None') is deprecated; in a future version this will raise TypeError.  Select only valid columns before calling the reduction.\n",
            "  df=df.fillna(df.mean())\n"
          ]
        }
      ]
    },
    {
      "cell_type": "code",
      "source": [
        "df.head()"
      ],
      "metadata": {
        "id": "e8_s5qEaroxd",
        "colab": {
          "base_uri": "https://localhost:8080/",
          "height": 235
        },
        "outputId": "ab32016e-06ea-46df-b701-6f70bc083be5"
      },
      "execution_count": null,
      "outputs": [
        {
          "output_type": "execute_result",
          "data": {
            "text/plain": [
              "      id   age     bp     sg   al   su       rbc        pc         pcc  \\\n",
              "209  210  19.0   70.0   1.02    0    0       NaN    normal  notpresent   \n",
              "280  281  47.0   80.0    NaN  NaN  NaN       NaN       NaN  notpresent   \n",
              "33    34  60.0  100.0   1.02    2    0  abnormal  abnormal  notpresent   \n",
              "210  211  59.0  100.0  1.015    4    2    normal    normal  notpresent   \n",
              "93    94  73.0  100.0   1.01    3    2  abnormal  abnormal     present   \n",
              "\n",
              "             ba  ...        pcv         wbcc      rbcc  htn   dm  cad  appet  \\\n",
              "209  notpresent  ...  38.884498  6900.000000  4.707435   no   no   no   good   \n",
              "280  notpresent  ...  52.000000  8100.000000  5.200000   no   no   no   good   \n",
              "33   notpresent  ...  29.000000  8406.122449  4.707435  yes   no   no   poor   \n",
              "210  notpresent  ...  20.000000  9800.000000  3.900000  yes  yes  yes   good   \n",
              "93   notpresent  ...  30.000000  7000.000000  3.200000  yes  yes  yes   poor   \n",
              "\n",
              "     pe  ane classification  \n",
              "209  no   no            ckd  \n",
              "280  no   no         notckd  \n",
              "33   no   no            ckd  \n",
              "210  no  yes            ckd  \n",
              "93   no   no            ckd  \n",
              "\n",
              "[5 rows x 26 columns]"
            ],
            "text/html": [
              "\n",
              "  <div id=\"df-b8117f99-ccda-4364-bf57-57cc2973a247\">\n",
              "    <div class=\"colab-df-container\">\n",
              "      <div>\n",
              "<style scoped>\n",
              "    .dataframe tbody tr th:only-of-type {\n",
              "        vertical-align: middle;\n",
              "    }\n",
              "\n",
              "    .dataframe tbody tr th {\n",
              "        vertical-align: top;\n",
              "    }\n",
              "\n",
              "    .dataframe thead th {\n",
              "        text-align: right;\n",
              "    }\n",
              "</style>\n",
              "<table border=\"1\" class=\"dataframe\">\n",
              "  <thead>\n",
              "    <tr style=\"text-align: right;\">\n",
              "      <th></th>\n",
              "      <th>id</th>\n",
              "      <th>age</th>\n",
              "      <th>bp</th>\n",
              "      <th>sg</th>\n",
              "      <th>al</th>\n",
              "      <th>su</th>\n",
              "      <th>rbc</th>\n",
              "      <th>pc</th>\n",
              "      <th>pcc</th>\n",
              "      <th>ba</th>\n",
              "      <th>...</th>\n",
              "      <th>pcv</th>\n",
              "      <th>wbcc</th>\n",
              "      <th>rbcc</th>\n",
              "      <th>htn</th>\n",
              "      <th>dm</th>\n",
              "      <th>cad</th>\n",
              "      <th>appet</th>\n",
              "      <th>pe</th>\n",
              "      <th>ane</th>\n",
              "      <th>classification</th>\n",
              "    </tr>\n",
              "  </thead>\n",
              "  <tbody>\n",
              "    <tr>\n",
              "      <th>209</th>\n",
              "      <td>210</td>\n",
              "      <td>19.0</td>\n",
              "      <td>70.0</td>\n",
              "      <td>1.02</td>\n",
              "      <td>0</td>\n",
              "      <td>0</td>\n",
              "      <td>NaN</td>\n",
              "      <td>normal</td>\n",
              "      <td>notpresent</td>\n",
              "      <td>notpresent</td>\n",
              "      <td>...</td>\n",
              "      <td>38.884498</td>\n",
              "      <td>6900.000000</td>\n",
              "      <td>4.707435</td>\n",
              "      <td>no</td>\n",
              "      <td>no</td>\n",
              "      <td>no</td>\n",
              "      <td>good</td>\n",
              "      <td>no</td>\n",
              "      <td>no</td>\n",
              "      <td>ckd</td>\n",
              "    </tr>\n",
              "    <tr>\n",
              "      <th>280</th>\n",
              "      <td>281</td>\n",
              "      <td>47.0</td>\n",
              "      <td>80.0</td>\n",
              "      <td>NaN</td>\n",
              "      <td>NaN</td>\n",
              "      <td>NaN</td>\n",
              "      <td>NaN</td>\n",
              "      <td>NaN</td>\n",
              "      <td>notpresent</td>\n",
              "      <td>notpresent</td>\n",
              "      <td>...</td>\n",
              "      <td>52.000000</td>\n",
              "      <td>8100.000000</td>\n",
              "      <td>5.200000</td>\n",
              "      <td>no</td>\n",
              "      <td>no</td>\n",
              "      <td>no</td>\n",
              "      <td>good</td>\n",
              "      <td>no</td>\n",
              "      <td>no</td>\n",
              "      <td>notckd</td>\n",
              "    </tr>\n",
              "    <tr>\n",
              "      <th>33</th>\n",
              "      <td>34</td>\n",
              "      <td>60.0</td>\n",
              "      <td>100.0</td>\n",
              "      <td>1.02</td>\n",
              "      <td>2</td>\n",
              "      <td>0</td>\n",
              "      <td>abnormal</td>\n",
              "      <td>abnormal</td>\n",
              "      <td>notpresent</td>\n",
              "      <td>notpresent</td>\n",
              "      <td>...</td>\n",
              "      <td>29.000000</td>\n",
              "      <td>8406.122449</td>\n",
              "      <td>4.707435</td>\n",
              "      <td>yes</td>\n",
              "      <td>no</td>\n",
              "      <td>no</td>\n",
              "      <td>poor</td>\n",
              "      <td>no</td>\n",
              "      <td>no</td>\n",
              "      <td>ckd</td>\n",
              "    </tr>\n",
              "    <tr>\n",
              "      <th>210</th>\n",
              "      <td>211</td>\n",
              "      <td>59.0</td>\n",
              "      <td>100.0</td>\n",
              "      <td>1.015</td>\n",
              "      <td>4</td>\n",
              "      <td>2</td>\n",
              "      <td>normal</td>\n",
              "      <td>normal</td>\n",
              "      <td>notpresent</td>\n",
              "      <td>notpresent</td>\n",
              "      <td>...</td>\n",
              "      <td>20.000000</td>\n",
              "      <td>9800.000000</td>\n",
              "      <td>3.900000</td>\n",
              "      <td>yes</td>\n",
              "      <td>yes</td>\n",
              "      <td>yes</td>\n",
              "      <td>good</td>\n",
              "      <td>no</td>\n",
              "      <td>yes</td>\n",
              "      <td>ckd</td>\n",
              "    </tr>\n",
              "    <tr>\n",
              "      <th>93</th>\n",
              "      <td>94</td>\n",
              "      <td>73.0</td>\n",
              "      <td>100.0</td>\n",
              "      <td>1.01</td>\n",
              "      <td>3</td>\n",
              "      <td>2</td>\n",
              "      <td>abnormal</td>\n",
              "      <td>abnormal</td>\n",
              "      <td>present</td>\n",
              "      <td>notpresent</td>\n",
              "      <td>...</td>\n",
              "      <td>30.000000</td>\n",
              "      <td>7000.000000</td>\n",
              "      <td>3.200000</td>\n",
              "      <td>yes</td>\n",
              "      <td>yes</td>\n",
              "      <td>yes</td>\n",
              "      <td>poor</td>\n",
              "      <td>no</td>\n",
              "      <td>no</td>\n",
              "      <td>ckd</td>\n",
              "    </tr>\n",
              "  </tbody>\n",
              "</table>\n",
              "<p>5 rows × 26 columns</p>\n",
              "</div>\n",
              "      <button class=\"colab-df-convert\" onclick=\"convertToInteractive('df-b8117f99-ccda-4364-bf57-57cc2973a247')\"\n",
              "              title=\"Convert this dataframe to an interactive table.\"\n",
              "              style=\"display:none;\">\n",
              "        \n",
              "  <svg xmlns=\"http://www.w3.org/2000/svg\" height=\"24px\"viewBox=\"0 0 24 24\"\n",
              "       width=\"24px\">\n",
              "    <path d=\"M0 0h24v24H0V0z\" fill=\"none\"/>\n",
              "    <path d=\"M18.56 5.44l.94 2.06.94-2.06 2.06-.94-2.06-.94-.94-2.06-.94 2.06-2.06.94zm-11 1L8.5 8.5l.94-2.06 2.06-.94-2.06-.94L8.5 2.5l-.94 2.06-2.06.94zm10 10l.94 2.06.94-2.06 2.06-.94-2.06-.94-.94-2.06-.94 2.06-2.06.94z\"/><path d=\"M17.41 7.96l-1.37-1.37c-.4-.4-.92-.59-1.43-.59-.52 0-1.04.2-1.43.59L10.3 9.45l-7.72 7.72c-.78.78-.78 2.05 0 2.83L4 21.41c.39.39.9.59 1.41.59.51 0 1.02-.2 1.41-.59l7.78-7.78 2.81-2.81c.8-.78.8-2.07 0-2.86zM5.41 20L4 18.59l7.72-7.72 1.47 1.35L5.41 20z\"/>\n",
              "  </svg>\n",
              "      </button>\n",
              "      \n",
              "  <style>\n",
              "    .colab-df-container {\n",
              "      display:flex;\n",
              "      flex-wrap:wrap;\n",
              "      gap: 12px;\n",
              "    }\n",
              "\n",
              "    .colab-df-convert {\n",
              "      background-color: #E8F0FE;\n",
              "      border: none;\n",
              "      border-radius: 50%;\n",
              "      cursor: pointer;\n",
              "      display: none;\n",
              "      fill: #1967D2;\n",
              "      height: 32px;\n",
              "      padding: 0 0 0 0;\n",
              "      width: 32px;\n",
              "    }\n",
              "\n",
              "    .colab-df-convert:hover {\n",
              "      background-color: #E2EBFA;\n",
              "      box-shadow: 0px 1px 2px rgba(60, 64, 67, 0.3), 0px 1px 3px 1px rgba(60, 64, 67, 0.15);\n",
              "      fill: #174EA6;\n",
              "    }\n",
              "\n",
              "    [theme=dark] .colab-df-convert {\n",
              "      background-color: #3B4455;\n",
              "      fill: #D2E3FC;\n",
              "    }\n",
              "\n",
              "    [theme=dark] .colab-df-convert:hover {\n",
              "      background-color: #434B5C;\n",
              "      box-shadow: 0px 1px 3px 1px rgba(0, 0, 0, 0.15);\n",
              "      filter: drop-shadow(0px 1px 2px rgba(0, 0, 0, 0.3));\n",
              "      fill: #FFFFFF;\n",
              "    }\n",
              "  </style>\n",
              "\n",
              "      <script>\n",
              "        const buttonEl =\n",
              "          document.querySelector('#df-b8117f99-ccda-4364-bf57-57cc2973a247 button.colab-df-convert');\n",
              "        buttonEl.style.display =\n",
              "          google.colab.kernel.accessAllowed ? 'block' : 'none';\n",
              "\n",
              "        async function convertToInteractive(key) {\n",
              "          const element = document.querySelector('#df-b8117f99-ccda-4364-bf57-57cc2973a247');\n",
              "          const dataTable =\n",
              "            await google.colab.kernel.invokeFunction('convertToInteractive',\n",
              "                                                     [key], {});\n",
              "          if (!dataTable) return;\n",
              "\n",
              "          const docLinkHtml = 'Like what you see? Visit the ' +\n",
              "            '<a target=\"_blank\" href=https://colab.research.google.com/notebooks/data_table.ipynb>data table notebook</a>'\n",
              "            + ' to learn more about interactive tables.';\n",
              "          element.innerHTML = '';\n",
              "          dataTable['output_type'] = 'display_data';\n",
              "          await google.colab.output.renderOutput(dataTable, element);\n",
              "          const docLink = document.createElement('div');\n",
              "          docLink.innerHTML = docLinkHtml;\n",
              "          element.appendChild(docLink);\n",
              "        }\n",
              "      </script>\n",
              "    </div>\n",
              "  </div>\n",
              "  "
            ]
          },
          "metadata": {},
          "execution_count": 18
        }
      ]
    },
    {
      "cell_type": "code",
      "source": [
        "df.describe()"
      ],
      "metadata": {
        "id": "uONd8z5Zrx0L",
        "colab": {
          "base_uri": "https://localhost:8080/",
          "height": 300
        },
        "outputId": "80270299-f7f4-41fb-8304-4d78d8f3121d"
      },
      "execution_count": null,
      "outputs": [
        {
          "output_type": "execute_result",
          "data": {
            "text/plain": [
              "               id         age          bp         bgr          bu          sc  \\\n",
              "count  400.000000  400.000000  400.000000  400.000000  400.000000  400.000000   \n",
              "mean   200.500000   51.483376   76.469072  148.036517   57.425722    3.072454   \n",
              "std    115.614301   16.974966   13.476298   74.782634   49.285887    5.617490   \n",
              "min      1.000000    2.000000   50.000000   22.000000    1.500000    0.400000   \n",
              "25%    100.750000   42.000000   70.000000  101.000000   27.000000    0.900000   \n",
              "50%    200.500000   54.000000   78.234536  126.000000   44.000000    1.400000   \n",
              "75%    300.250000   64.000000   80.000000  150.000000   61.750000    3.072454   \n",
              "max    400.000000   90.000000  180.000000  490.000000  391.000000   76.000000   \n",
              "\n",
              "              sod         pot        hemo         pcv          wbcc  \\\n",
              "count  400.000000  400.000000  400.000000  400.000000    400.000000   \n",
              "mean   137.528754    4.627244   12.526437   38.884498   8406.122449   \n",
              "std      9.204273    2.819783    2.716171    8.151081   2523.219976   \n",
              "min      4.500000    2.500000    3.100000    9.000000   2200.000000   \n",
              "25%    135.000000    4.000000   10.875000   34.000000   6975.000000   \n",
              "50%    137.528754    4.627244   12.526437   38.884498   8406.122449   \n",
              "75%    141.000000    4.800000   14.625000   44.000000   9400.000000   \n",
              "max    163.000000   47.000000   17.800000   54.000000  26400.000000   \n",
              "\n",
              "             rbcc  \n",
              "count  400.000000  \n",
              "mean     4.707435  \n",
              "std      0.840314  \n",
              "min      2.100000  \n",
              "25%      4.500000  \n",
              "50%      4.707435  \n",
              "75%      5.100000  \n",
              "max      8.000000  "
            ],
            "text/html": [
              "\n",
              "  <div id=\"df-df78367c-7e90-411d-ac05-97f0cd627af5\">\n",
              "    <div class=\"colab-df-container\">\n",
              "      <div>\n",
              "<style scoped>\n",
              "    .dataframe tbody tr th:only-of-type {\n",
              "        vertical-align: middle;\n",
              "    }\n",
              "\n",
              "    .dataframe tbody tr th {\n",
              "        vertical-align: top;\n",
              "    }\n",
              "\n",
              "    .dataframe thead th {\n",
              "        text-align: right;\n",
              "    }\n",
              "</style>\n",
              "<table border=\"1\" class=\"dataframe\">\n",
              "  <thead>\n",
              "    <tr style=\"text-align: right;\">\n",
              "      <th></th>\n",
              "      <th>id</th>\n",
              "      <th>age</th>\n",
              "      <th>bp</th>\n",
              "      <th>bgr</th>\n",
              "      <th>bu</th>\n",
              "      <th>sc</th>\n",
              "      <th>sod</th>\n",
              "      <th>pot</th>\n",
              "      <th>hemo</th>\n",
              "      <th>pcv</th>\n",
              "      <th>wbcc</th>\n",
              "      <th>rbcc</th>\n",
              "    </tr>\n",
              "  </thead>\n",
              "  <tbody>\n",
              "    <tr>\n",
              "      <th>count</th>\n",
              "      <td>400.000000</td>\n",
              "      <td>400.000000</td>\n",
              "      <td>400.000000</td>\n",
              "      <td>400.000000</td>\n",
              "      <td>400.000000</td>\n",
              "      <td>400.000000</td>\n",
              "      <td>400.000000</td>\n",
              "      <td>400.000000</td>\n",
              "      <td>400.000000</td>\n",
              "      <td>400.000000</td>\n",
              "      <td>400.000000</td>\n",
              "      <td>400.000000</td>\n",
              "    </tr>\n",
              "    <tr>\n",
              "      <th>mean</th>\n",
              "      <td>200.500000</td>\n",
              "      <td>51.483376</td>\n",
              "      <td>76.469072</td>\n",
              "      <td>148.036517</td>\n",
              "      <td>57.425722</td>\n",
              "      <td>3.072454</td>\n",
              "      <td>137.528754</td>\n",
              "      <td>4.627244</td>\n",
              "      <td>12.526437</td>\n",
              "      <td>38.884498</td>\n",
              "      <td>8406.122449</td>\n",
              "      <td>4.707435</td>\n",
              "    </tr>\n",
              "    <tr>\n",
              "      <th>std</th>\n",
              "      <td>115.614301</td>\n",
              "      <td>16.974966</td>\n",
              "      <td>13.476298</td>\n",
              "      <td>74.782634</td>\n",
              "      <td>49.285887</td>\n",
              "      <td>5.617490</td>\n",
              "      <td>9.204273</td>\n",
              "      <td>2.819783</td>\n",
              "      <td>2.716171</td>\n",
              "      <td>8.151081</td>\n",
              "      <td>2523.219976</td>\n",
              "      <td>0.840314</td>\n",
              "    </tr>\n",
              "    <tr>\n",
              "      <th>min</th>\n",
              "      <td>1.000000</td>\n",
              "      <td>2.000000</td>\n",
              "      <td>50.000000</td>\n",
              "      <td>22.000000</td>\n",
              "      <td>1.500000</td>\n",
              "      <td>0.400000</td>\n",
              "      <td>4.500000</td>\n",
              "      <td>2.500000</td>\n",
              "      <td>3.100000</td>\n",
              "      <td>9.000000</td>\n",
              "      <td>2200.000000</td>\n",
              "      <td>2.100000</td>\n",
              "    </tr>\n",
              "    <tr>\n",
              "      <th>25%</th>\n",
              "      <td>100.750000</td>\n",
              "      <td>42.000000</td>\n",
              "      <td>70.000000</td>\n",
              "      <td>101.000000</td>\n",
              "      <td>27.000000</td>\n",
              "      <td>0.900000</td>\n",
              "      <td>135.000000</td>\n",
              "      <td>4.000000</td>\n",
              "      <td>10.875000</td>\n",
              "      <td>34.000000</td>\n",
              "      <td>6975.000000</td>\n",
              "      <td>4.500000</td>\n",
              "    </tr>\n",
              "    <tr>\n",
              "      <th>50%</th>\n",
              "      <td>200.500000</td>\n",
              "      <td>54.000000</td>\n",
              "      <td>78.234536</td>\n",
              "      <td>126.000000</td>\n",
              "      <td>44.000000</td>\n",
              "      <td>1.400000</td>\n",
              "      <td>137.528754</td>\n",
              "      <td>4.627244</td>\n",
              "      <td>12.526437</td>\n",
              "      <td>38.884498</td>\n",
              "      <td>8406.122449</td>\n",
              "      <td>4.707435</td>\n",
              "    </tr>\n",
              "    <tr>\n",
              "      <th>75%</th>\n",
              "      <td>300.250000</td>\n",
              "      <td>64.000000</td>\n",
              "      <td>80.000000</td>\n",
              "      <td>150.000000</td>\n",
              "      <td>61.750000</td>\n",
              "      <td>3.072454</td>\n",
              "      <td>141.000000</td>\n",
              "      <td>4.800000</td>\n",
              "      <td>14.625000</td>\n",
              "      <td>44.000000</td>\n",
              "      <td>9400.000000</td>\n",
              "      <td>5.100000</td>\n",
              "    </tr>\n",
              "    <tr>\n",
              "      <th>max</th>\n",
              "      <td>400.000000</td>\n",
              "      <td>90.000000</td>\n",
              "      <td>180.000000</td>\n",
              "      <td>490.000000</td>\n",
              "      <td>391.000000</td>\n",
              "      <td>76.000000</td>\n",
              "      <td>163.000000</td>\n",
              "      <td>47.000000</td>\n",
              "      <td>17.800000</td>\n",
              "      <td>54.000000</td>\n",
              "      <td>26400.000000</td>\n",
              "      <td>8.000000</td>\n",
              "    </tr>\n",
              "  </tbody>\n",
              "</table>\n",
              "</div>\n",
              "      <button class=\"colab-df-convert\" onclick=\"convertToInteractive('df-df78367c-7e90-411d-ac05-97f0cd627af5')\"\n",
              "              title=\"Convert this dataframe to an interactive table.\"\n",
              "              style=\"display:none;\">\n",
              "        \n",
              "  <svg xmlns=\"http://www.w3.org/2000/svg\" height=\"24px\"viewBox=\"0 0 24 24\"\n",
              "       width=\"24px\">\n",
              "    <path d=\"M0 0h24v24H0V0z\" fill=\"none\"/>\n",
              "    <path d=\"M18.56 5.44l.94 2.06.94-2.06 2.06-.94-2.06-.94-.94-2.06-.94 2.06-2.06.94zm-11 1L8.5 8.5l.94-2.06 2.06-.94-2.06-.94L8.5 2.5l-.94 2.06-2.06.94zm10 10l.94 2.06.94-2.06 2.06-.94-2.06-.94-.94-2.06-.94 2.06-2.06.94z\"/><path d=\"M17.41 7.96l-1.37-1.37c-.4-.4-.92-.59-1.43-.59-.52 0-1.04.2-1.43.59L10.3 9.45l-7.72 7.72c-.78.78-.78 2.05 0 2.83L4 21.41c.39.39.9.59 1.41.59.51 0 1.02-.2 1.41-.59l7.78-7.78 2.81-2.81c.8-.78.8-2.07 0-2.86zM5.41 20L4 18.59l7.72-7.72 1.47 1.35L5.41 20z\"/>\n",
              "  </svg>\n",
              "      </button>\n",
              "      \n",
              "  <style>\n",
              "    .colab-df-container {\n",
              "      display:flex;\n",
              "      flex-wrap:wrap;\n",
              "      gap: 12px;\n",
              "    }\n",
              "\n",
              "    .colab-df-convert {\n",
              "      background-color: #E8F0FE;\n",
              "      border: none;\n",
              "      border-radius: 50%;\n",
              "      cursor: pointer;\n",
              "      display: none;\n",
              "      fill: #1967D2;\n",
              "      height: 32px;\n",
              "      padding: 0 0 0 0;\n",
              "      width: 32px;\n",
              "    }\n",
              "\n",
              "    .colab-df-convert:hover {\n",
              "      background-color: #E2EBFA;\n",
              "      box-shadow: 0px 1px 2px rgba(60, 64, 67, 0.3), 0px 1px 3px 1px rgba(60, 64, 67, 0.15);\n",
              "      fill: #174EA6;\n",
              "    }\n",
              "\n",
              "    [theme=dark] .colab-df-convert {\n",
              "      background-color: #3B4455;\n",
              "      fill: #D2E3FC;\n",
              "    }\n",
              "\n",
              "    [theme=dark] .colab-df-convert:hover {\n",
              "      background-color: #434B5C;\n",
              "      box-shadow: 0px 1px 3px 1px rgba(0, 0, 0, 0.15);\n",
              "      filter: drop-shadow(0px 1px 2px rgba(0, 0, 0, 0.3));\n",
              "      fill: #FFFFFF;\n",
              "    }\n",
              "  </style>\n",
              "\n",
              "      <script>\n",
              "        const buttonEl =\n",
              "          document.querySelector('#df-df78367c-7e90-411d-ac05-97f0cd627af5 button.colab-df-convert');\n",
              "        buttonEl.style.display =\n",
              "          google.colab.kernel.accessAllowed ? 'block' : 'none';\n",
              "\n",
              "        async function convertToInteractive(key) {\n",
              "          const element = document.querySelector('#df-df78367c-7e90-411d-ac05-97f0cd627af5');\n",
              "          const dataTable =\n",
              "            await google.colab.kernel.invokeFunction('convertToInteractive',\n",
              "                                                     [key], {});\n",
              "          if (!dataTable) return;\n",
              "\n",
              "          const docLinkHtml = 'Like what you see? Visit the ' +\n",
              "            '<a target=\"_blank\" href=https://colab.research.google.com/notebooks/data_table.ipynb>data table notebook</a>'\n",
              "            + ' to learn more about interactive tables.';\n",
              "          element.innerHTML = '';\n",
              "          dataTable['output_type'] = 'display_data';\n",
              "          await google.colab.output.renderOutput(dataTable, element);\n",
              "          const docLink = document.createElement('div');\n",
              "          docLink.innerHTML = docLinkHtml;\n",
              "          element.appendChild(docLink);\n",
              "        }\n",
              "      </script>\n",
              "    </div>\n",
              "  </div>\n",
              "  "
            ]
          },
          "metadata": {},
          "execution_count": 19
        }
      ]
    },
    {
      "cell_type": "code",
      "source": [
        "#1. Function to replace NAN values with mode value\n",
        "def impute_nan_most_frequent_category(DataFrame,ColName):\n",
        "    # .mode()[0] - gives first category name\n",
        "     most_frequent_category=DataFrame[ColName].mode()[0]\n",
        "    \n",
        "    # replace nan values with most occured category\n",
        "     DataFrame[ColName + \"_Imputed\"] = DataFrame[ColName]\n",
        "     DataFrame[ColName + \"_Imputed\"].fillna(most_frequent_category,inplace=True)\n",
        "#2. Call function to impute most occured category\n",
        "cat_cols = [col for col in df.columns if df[col].dtype == 'object']\n",
        "for Columns in cat_cols:\n",
        "    impute_nan_most_frequent_category(df,Columns)\n",
        "    \n",
        "\n",
        "#3. Drop actual columns\n",
        "df = df.drop(cat_cols, axis = 1)"
      ],
      "metadata": {
        "id": "04tbKjB8r5e2"
      },
      "execution_count": null,
      "outputs": []
    },
    {
      "cell_type": "code",
      "source": [
        "#formatting dataframe by replacing strings in it\n",
        "replacements = {\n",
        "    'poor' : 0.0,\n",
        "    'good' : 1.0,\n",
        "    'normal' : 1.0,\n",
        "    'abnormal' : 0.0,\n",
        "    'notpresent' : 0.0,\n",
        "    'present' : 1.0,\n",
        "    'yes' : 1.0,\n",
        "    'no' : 0.0,\n",
        "    'ckd' : 1.0,\n",
        "    'notckd' : 0.0\n",
        "}\n",
        "df = df.replace(replacements)\n",
        "df=df.apply(pd.to_numeric, errors='ignore')"
      ],
      "metadata": {
        "id": "Nz6s2nvA8Jtd"
      },
      "execution_count": null,
      "outputs": []
    },
    {
      "cell_type": "code",
      "source": [
        "df.info()"
      ],
      "metadata": {
        "id": "tRuiduKx85AZ",
        "colab": {
          "base_uri": "https://localhost:8080/"
        },
        "outputId": "126a64ac-db93-488d-c0de-670b9a59e578"
      },
      "execution_count": null,
      "outputs": [
        {
          "output_type": "stream",
          "name": "stdout",
          "text": [
            "<class 'pandas.core.frame.DataFrame'>\n",
            "Int64Index: 400 entries, 209 to 102\n",
            "Data columns (total 26 columns):\n",
            " #   Column                  Non-Null Count  Dtype  \n",
            "---  ------                  --------------  -----  \n",
            " 0   id                      400 non-null    int64  \n",
            " 1   age                     400 non-null    float64\n",
            " 2   bp                      400 non-null    float64\n",
            " 3   bgr                     400 non-null    float64\n",
            " 4   bu                      400 non-null    float64\n",
            " 5   sc                      400 non-null    float64\n",
            " 6   sod                     400 non-null    float64\n",
            " 7   pot                     400 non-null    float64\n",
            " 8   hemo                    400 non-null    float64\n",
            " 9   pcv                     400 non-null    float64\n",
            " 10  wbcc                    400 non-null    float64\n",
            " 11  rbcc                    400 non-null    float64\n",
            " 12  sg_Imputed              400 non-null    float64\n",
            " 13  al_Imputed              400 non-null    int64  \n",
            " 14  su_Imputed              400 non-null    int64  \n",
            " 15  rbc_Imputed             400 non-null    float64\n",
            " 16  pc_Imputed              400 non-null    float64\n",
            " 17  pcc_Imputed             400 non-null    float64\n",
            " 18  ba_Imputed              400 non-null    float64\n",
            " 19  htn_Imputed             400 non-null    float64\n",
            " 20  dm_Imputed              400 non-null    float64\n",
            " 21  cad_Imputed             400 non-null    float64\n",
            " 22  appet_Imputed           400 non-null    float64\n",
            " 23  pe_Imputed              400 non-null    float64\n",
            " 24  ane_Imputed             400 non-null    float64\n",
            " 25  classification_Imputed  400 non-null    float64\n",
            "dtypes: float64(23), int64(3)\n",
            "memory usage: 84.4 KB\n"
          ]
        }
      ]
    },
    {
      "cell_type": "code",
      "source": [
        "df=df.drop(columns=[\"id\"])\n",
        "y = df['classification_Imputed']\n",
        "x = df.loc[:, df.columns != 'classification_Imputed']\n",
        "x = x.apply(pd.to_numeric, errors='coerce')\n",
        "y = y.apply(pd.to_numeric, errors='coerce')\n"
      ],
      "metadata": {
        "id": "hs3aOHCS5WJ1"
      },
      "execution_count": null,
      "outputs": []
    },
    {
      "cell_type": "code",
      "source": [
        "x1=x\n",
        "y1=y\n",
        "x=x.values\n",
        "\n",
        "y=y.values"
      ],
      "metadata": {
        "id": "RjdnvVBws-E9"
      },
      "execution_count": null,
      "outputs": []
    },
    {
      "cell_type": "code",
      "source": [
        "from sklearn.model_selection import train_test_split\n",
        "\n",
        "# Load the dataset and split it into training and test sets\n",
        "X_train, X_test, y_train, y_test = train_test_split(x, y, test_size=0.30, random_state=42)"
      ],
      "metadata": {
        "id": "ooI6dc4197ZE"
      },
      "execution_count": null,
      "outputs": []
    },
    {
      "cell_type": "code",
      "source": [
        "from sklearn.preprocessing import MinMaxScaler\n",
        "#Feature scaling\n",
        "ss=MinMaxScaler()\n",
        "train_fitted_ss =ss.fit(X_train)\n",
        "X_train_scaled = train_fitted_ss.transform(X_train)\n",
        "X_test_scaled = train_fitted_ss.transform(X_test)\n",
        "X_train_scaled"
      ],
      "metadata": {
        "colab": {
          "base_uri": "https://localhost:8080/"
        },
        "id": "xFYAftuBmgEd",
        "outputId": "7a1c9698-0bdf-4313-c8f7-a7f6be3eb660"
      },
      "execution_count": null,
      "outputs": [
        {
          "output_type": "execute_result",
          "data": {
            "text/plain": [
              "array([[0.525     , 0.44444444, 0.72222222, ..., 1.        , 0.        ,\n",
              "        0.        ],\n",
              "       [0.4       , 0.22222222, 0.12820513, ..., 1.        , 0.        ,\n",
              "        0.        ],\n",
              "       [0.6875    , 0.22222222, 0.14102564, ..., 1.        , 0.        ,\n",
              "        0.        ],\n",
              "       ...,\n",
              "       [0.6375    , 0.55555556, 0.2991453 , ..., 0.        , 1.        ,\n",
              "        0.        ],\n",
              "       [0.675     , 0.22222222, 0.30555556, ..., 1.        , 0.        ,\n",
              "        0.        ],\n",
              "       [0.55      , 0.22222222, 0.16452991, ..., 1.        , 0.        ,\n",
              "        0.        ]])"
            ]
          },
          "metadata": {},
          "execution_count": 26
        }
      ]
    },
    {
      "cell_type": "markdown",
      "source": [
        "**<h1>Model fitting<h1>**"
      ],
      "metadata": {
        "id": "EZmSBFgnH-Es"
      }
    },
    {
      "cell_type": "markdown",
      "source": [
        "**SVM**"
      ],
      "metadata": {
        "id": "IZmgd-NzHC1k"
      }
    },
    {
      "cell_type": "code",
      "source": [
        "ayoub_model = SVC(kernel='linear',random_state=42)\n",
        "ayoub_model.fit(X_train_scaled,y_train)\n"
      ],
      "metadata": {
        "id": "eXoGVBZr7Qqj",
        "colab": {
          "base_uri": "https://localhost:8080/"
        },
        "outputId": "2399e83d-d0fb-4417-b0aa-0810c3fb1865"
      },
      "execution_count": null,
      "outputs": [
        {
          "output_type": "execute_result",
          "data": {
            "text/plain": [
              "SVC(kernel='linear', random_state=42)"
            ]
          },
          "metadata": {},
          "execution_count": 27
        }
      ]
    },
    {
      "cell_type": "markdown",
      "source": [
        "**KNN**"
      ],
      "metadata": {
        "id": "S-9zhtHgHP5m"
      }
    },
    {
      "cell_type": "markdown",
      "source": [
        "**choice of k for KNN**"
      ],
      "metadata": {
        "id": "q0unuVTIlJso"
      }
    },
    {
      "cell_type": "code",
      "source": [
        "#elbow method\n",
        "from sklearn.cluster import KMeans\n",
        "distortions = []\n",
        "K = range(1,10)\n",
        "for k in K:\n",
        "    kmeanModel = KMeans(n_clusters=k)\n",
        "    kmeanModel.fit(df)\n",
        "    distortions.append(kmeanModel.inertia_)\n",
        "plt.figure(figsize=(16,8))\n",
        "plt.plot(K, distortions, 'bx-')\n",
        "plt.xlabel('k')\n",
        "plt.ylabel('Distortion')\n",
        "plt.title('The Elbow Method showing the optimal k')\n",
        "plt.show()"
      ],
      "metadata": {
        "colab": {
          "base_uri": "https://localhost:8080/",
          "height": 513
        },
        "id": "81gZcKf3HPVO",
        "outputId": "25187f74-5bcc-4ae5-8efc-de800ac66ee5"
      },
      "execution_count": null,
      "outputs": [
        {
          "output_type": "display_data",
          "data": {
            "text/plain": [
              "<Figure size 1152x576 with 1 Axes>"
            ],
            "image/png": "[encoded data removed]"
          },
          "metadata": {
            "needs_background": "light"
          }
        }
      ]
    },
    {
      "cell_type": "code",
      "source": [
        "from sklearn.neighbors import KNeighborsClassifier\n",
        "from sklearn.metrics import accuracy_score\n",
        "rabeb_model=KNeighborsClassifier(n_neighbors=3)\n",
        "rabeb_model.fit(X_train_scaled,y_train)\n",
        "print(accuracy_score(y_test, rabeb_model.predict(X_test_scaled)))"
      ],
      "metadata": {
        "id": "V_lytjIFHO8Z",
        "colab": {
          "base_uri": "https://localhost:8080/"
        },
        "outputId": "6714e837-2dca-4210-8af7-f27a3b413a54"
      },
      "execution_count": null,
      "outputs": [
        {
          "output_type": "stream",
          "name": "stdout",
          "text": [
            "0.9666666666666667\n"
          ]
        }
      ]
    },
    {
      "cell_type": "markdown",
      "source": [
        "**Decision Tree**"
      ],
      "metadata": {
        "id": "xAdiTnuZHVcE"
      }
    },
    {
      "cell_type": "code",
      "source": [
        "salah_model = DecisionTreeClassifier(random_state = 42)\n",
        "salah_model.fit(X_train, y_train)"
      ],
      "metadata": {
        "colab": {
          "base_uri": "https://localhost:8080/"
        },
        "id": "cjxTpbpEHVlP",
        "outputId": "7eac8b0e-12f9-4d58-fd07-1ae55175a8cd"
      },
      "execution_count": null,
      "outputs": [
        {
          "output_type": "execute_result",
          "data": {
            "text/plain": [
              "DecisionTreeClassifier(random_state=42)"
            ]
          },
          "metadata": {},
          "execution_count": 30
        }
      ]
    },
    {
      "cell_type": "markdown",
      "source": [
        "**Random Forest**"
      ],
      "metadata": {
        "id": "8vtusAlYIgeu"
      }
    },
    {
      "cell_type": "code",
      "source": [
        "karim_model = RandomForestClassifier(criterion = 'entropy', max_depth = 11, max_features = 'auto', min_samples_leaf = 2, min_samples_split = 3, n_estimators = 10,random_state=42)\n",
        "karim_model.fit(X_train, y_train)"
      ],
      "metadata": {
        "colab": {
          "base_uri": "https://localhost:8080/"
        },
        "id": "A-gFAQmHIlzi",
        "outputId": "4377f0d3-1187-47d3-d1c2-aa7ba1477955"
      },
      "execution_count": null,
      "outputs": [
        {
          "output_type": "execute_result",
          "data": {
            "text/plain": [
              "RandomForestClassifier(criterion='entropy', max_depth=11, min_samples_leaf=2,\n",
              "                       min_samples_split=3, n_estimators=10, random_state=42)"
            ]
          },
          "metadata": {},
          "execution_count": 31
        }
      ]
    },
    {
      "cell_type": "markdown",
      "source": [
        "**<h1>Model evaluation without feature selection<h1>**"
      ],
      "metadata": {
        "id": "ojydXqElJJlJ"
      }
    },
    {
      "cell_type": "code",
      "source": [
        "# # Evaluate the model on the train set\n",
        "# accuracy_train = ayoub_model.score(X_train_scaled, y_train)\n",
        "# print('Accuracy on train:', accuracy_train)\n",
        "\n",
        "# # Evaluate the model on the test set\n",
        "# accuracy_test = ayoub_model.score(X_test_scaled, y_test)\n",
        "# print('Accuracy on train:', accuracy_test)"
      ],
      "metadata": {
        "id": "mHteQBBNH3Cx"
      },
      "execution_count": null,
      "outputs": []
    },
    {
      "cell_type": "code",
      "source": [
        "from sklearn.metrics import accuracy_score\n",
        "print(accuracy_score(y_test, ayoub_model.predict(X_test_scaled)))\n",
        "print(accuracy_score(y_test, salah_model.predict(X_test)))\n",
        "print(accuracy_score(y_test, karim_model.predict(X_test)))\n",
        "print(accuracy_score(y_test, rabeb_model.predict(X_test_scaled)))"
      ],
      "metadata": {
        "colab": {
          "base_uri": "https://localhost:8080/"
        },
        "id": "6jSarei4awwF",
        "outputId": "f172897b-13ef-476a-c124-140c0028aceb"
      },
      "execution_count": null,
      "outputs": [
        {
          "output_type": "stream",
          "name": "stdout",
          "text": [
            "0.9833333333333333\n",
            "0.9833333333333333\n",
            "0.975\n",
            "0.9666666666666667\n"
          ]
        }
      ]
    },
    {
      "cell_type": "code",
      "source": [
        "from sklearn.metrics import classification_report\n",
        "print(f\"\"\"Classification Report :\\n\n",
        "\\033[1;31mSVM \\033[\n",
        "\\n {classification_report(y_test, ayoub_model.predict(X_test_scaled))}\n",
        "\\033[1;31mKNN\\033[ \n",
        "\\n {classification_report(y_test, rabeb_model.predict(X_test_scaled))}\n",
        "\\033[1;31mDecision Tree\\033[\n",
        "\\n {classification_report(y_test, salah_model.predict(X_test))}\n",
        "\\033[1;31mRandom Forest\\033[\n",
        "\\n {classification_report(y_test, karim_model.predict(X_test))}\"\"\")\n"
      ],
      "metadata": {
        "id": "cymIn9B6KNU5",
        "colab": {
          "base_uri": "https://localhost:8080/"
        },
        "outputId": "a18395a8-59a1-47cf-f9f2-4a4f96dbd37c"
      },
      "execution_count": null,
      "outputs": [
        {
          "output_type": "stream",
          "name": "stdout",
          "text": [
            "Classification Report :\n",
            "\n",
            "\u001b[1;31mSVM \u001b[\n",
            "\n",
            "               precision    recall  f1-score   support\n",
            "\n",
            "         0.0       0.95      1.00      0.98        42\n",
            "         1.0       1.00      0.97      0.99        78\n",
            "\n",
            "    accuracy                           0.98       120\n",
            "   macro avg       0.98      0.99      0.98       120\n",
            "weighted avg       0.98      0.98      0.98       120\n",
            "\n",
            "\u001b[1;31mKNN\u001b[ \n",
            "\n",
            "               precision    recall  f1-score   support\n",
            "\n",
            "         0.0       0.91      1.00      0.95        42\n",
            "         1.0       1.00      0.95      0.97        78\n",
            "\n",
            "    accuracy                           0.97       120\n",
            "   macro avg       0.96      0.97      0.96       120\n",
            "weighted avg       0.97      0.97      0.97       120\n",
            "\n",
            "\u001b[1;31mDecision Tree\u001b[\n",
            "\n",
            "               precision    recall  f1-score   support\n",
            "\n",
            "         0.0       0.98      0.98      0.98        42\n",
            "         1.0       0.99      0.99      0.99        78\n",
            "\n",
            "    accuracy                           0.98       120\n",
            "   macro avg       0.98      0.98      0.98       120\n",
            "weighted avg       0.98      0.98      0.98       120\n",
            "\n",
            "\u001b[1;31mRandom Forest\u001b[\n",
            "\n",
            "               precision    recall  f1-score   support\n",
            "\n",
            "         0.0       0.98      0.95      0.96        42\n",
            "         1.0       0.97      0.99      0.98        78\n",
            "\n",
            "    accuracy                           0.97       120\n",
            "   macro avg       0.98      0.97      0.97       120\n",
            "weighted avg       0.98      0.97      0.97       120\n",
            "\n"
          ]
        }
      ]
    },
    {
      "cell_type": "code",
      "source": [
        "from sklearn import metrics\n",
        "\n",
        "confusion_matrix1 = metrics.confusion_matrix(y_test, ayoub_model.predict(X_test_scaled))\n",
        "matrix_df1 = pd.DataFrame(confusion_matrix1)\n",
        "\n",
        "confusion_matrix2 = metrics.confusion_matrix(y_test, rabeb_model.predict(X_test_scaled))\n",
        "matrix_df2 = pd.DataFrame(confusion_matrix2)\n",
        "\n",
        "confusion_matrix3 = metrics.confusion_matrix(y_test, salah_model.predict(X_test))\n",
        "matrix_df3 = pd.DataFrame(confusion_matrix3)\n",
        "\n",
        "confusion_matrix4 = metrics.confusion_matrix(y_test, karim_model.predict(X_test))\n",
        "matrix_df4 = pd.DataFrame(confusion_matrix4)\n",
        "\n",
        "# Create a figure with subplots\n",
        "fig, axs = plt.subplots(2, 2, figsize=(20, 15))\n",
        "\n",
        "# Plot the first confusion matrix\n",
        "sns.set(font_scale=1.3)\n",
        "sns.heatmap(matrix_df1, annot=True, fmt=\"g\", ax=axs[0,0], cmap=\"magma\")\n",
        "axs[0,0].set_title('Confusion Matrix - SVM')\n",
        "axs[0,0].set_xlabel(\"Predicted label\", fontsize =15)\n",
        "axs[0,0].set_xticklabels([\"ckd\",\"notckd\"])\n",
        "axs[0,0].set_ylabel(\"True Label\", fontsize=15)\n",
        "axs[0,0].set_yticklabels([\"ckd\",\"notckd\"], rotation = 0)\n",
        "\n",
        "\n",
        "# # Repeat for the second and third confusion matrices\n",
        "sns.set(font_scale=1.3)\n",
        "sns.heatmap(matrix_df2, annot=True, fmt=\"g\", ax=axs[0,1], cmap=\"magma\")\n",
        "axs[0,1].set_title('Confusion Matrix - KNN')\n",
        "axs[0,1].set_xlabel(\"Predicted label\", fontsize =15)\n",
        "axs[0,1].set_xticklabels([\"ckd\",\"notckd\"])\n",
        "axs[0,1].set_ylabel(\"True Label\", fontsize=15)\n",
        "axs[0,1].set_yticklabels([\"ckd\",\"notckd\"], rotation = 0)\n",
        "\n",
        "sns.set(font_scale=1.3)\n",
        "sns.heatmap(matrix_df3, annot=True, fmt=\"g\", ax=axs[1,0], cmap=\"magma\")\n",
        "axs[1,0].set_title('Confusion Matrix - Decision Tree')\n",
        "axs[1,0].set_xlabel(\"Predicted label\", fontsize =15)\n",
        "axs[1,0].set_xticklabels([\"ckd\",\"notckd\"])\n",
        "axs[1,0].set_ylabel(\"True Label\", fontsize=15)\n",
        "axs[1,0].set_yticklabels([\"ckd\",\"notckd\"], rotation = 0)\n",
        "\n",
        "sns.set(font_scale=1.3)\n",
        "sns.heatmap(matrix_df4, annot=True, fmt=\"g\", ax=axs[1,1], cmap=\"magma\")\n",
        "axs[1,1].set_title('Confusion Matrix - Random Forest')\n",
        "axs[1,1].set_xlabel(\"Predicted label\", fontsize =15)\n",
        "axs[1,1].set_xticklabels([\"ckd\",\"notckd\"])\n",
        "axs[1,1].set_ylabel(\"True Label\", fontsize=15)\n",
        "axs[1,1].set_yticklabels([\"ckd\",\"notckd\"], rotation = 0)\n",
        "\n",
        "# Show the plot\n",
        "plt.show()\n"
      ],
      "metadata": {
        "id": "fgYPug5UOBOg",
        "colab": {
          "base_uri": "https://localhost:8080/",
          "height": 900
        },
        "outputId": "137db298-9277-4f0f-e3fe-e9434f1e6ed5"
      },
      "execution_count": null,
      "outputs": [
        {
          "output_type": "display_data",
          "data": {
            "text/plain": [
              "<Figure size 1440x1080 with 8 Axes>"
            ],
            "image/png": "[encoded data removed]"
          },
          "metadata": {
            "needs_background": "light"
          }
        }
      ]
    },
    {
      "cell_type": "markdown",
      "source": [
        "**<h2>1. Feature Selection</h2>**\n"
      ],
      "metadata": {
        "id": "7Es5uukTFobQ"
      }
    },
    {
      "cell_type": "code",
      "source": [
        "from sklearn.model_selection import StratifiedKFold\n",
        "#rfecv for classification\n",
        "svc = SVC(kernel=\"linear\", random_state=42)\n",
        "rfecv = RFECV(estimator=svc,cv=StratifiedKFold(11))\n",
        "rfecv.fit(X_train_scaled, y_train)\n",
        "print(\"Optimal number of features : %d\" % rfecv.n_features_)\n",
        "# Plotting number of features and cross-validation scores\n",
        "plt.figure()\n",
        "plt.xlabel(\"Number of features selected\")\n",
        "plt.ylabel(\"Cross validation score (nb of correct classifications)\")\n",
        "plt.plot(range(1, len(rfecv.grid_scores_) + 1), rfecv.grid_scores_)\n",
        "plt.show()\n",
        "selected_columns = rfecv.support_\n",
        "print(selected_columns)"
      ],
      "metadata": {
        "id": "2tVECupeA8uU",
        "colab": {
          "base_uri": "https://localhost:8080/",
          "height": 542
        },
        "outputId": "25847f5f-44ac-489f-da4e-b31b67c89a41"
      },
      "execution_count": null,
      "outputs": [
        {
          "output_type": "stream",
          "name": "stdout",
          "text": [
            "Optimal number of features : 9\n"
          ]
        },
        {
          "output_type": "stream",
          "name": "stderr",
          "text": [
            "/usr/local/lib/python3.8/dist-packages/sklearn/utils/deprecation.py:103: FutureWarning: The `grid_scores_` attribute is deprecated in version 1.0 in favor of `cv_results_` and will be removed in version 1.2.\n",
            "  warnings.warn(msg, category=FutureWarning)\n"
          ]
        },
        {
          "output_type": "display_data",
          "data": {
            "text/plain": [
              "<Figure size 432x288 with 1 Axes>"
            ],
            "image/png": "[encoded data removed]"
          },
          "metadata": {}
        },
        {
          "output_type": "stream",
          "name": "stdout",
          "text": [
            "[False False False False False False False  True  True False  True  True\n",
            "  True False False False False False  True  True False  True  True False]\n"
          ]
        }
      ]
    },
    {
      "cell_type": "code",
      "source": [
        "# chosen_columns0 = ['pcc_Imputed','sod','hemo','pcv','htn_Imputed','dm_Imputed','appet_Imputed','pe_Imputed']\n",
        "\n",
        "chosen_columns = np.where(selected_columns)[0]\n",
        "print(chosen_columns)\n",
        "print(f'number of chosen columns: {len(chosen_columns)}')"
      ],
      "metadata": {
        "id": "qCg51d7bULsX",
        "colab": {
          "base_uri": "https://localhost:8080/"
        },
        "outputId": "b3cfd773-3986-43b1-faeb-f4182b9ff1d8"
      },
      "execution_count": null,
      "outputs": [
        {
          "output_type": "stream",
          "name": "stdout",
          "text": [
            "[ 7  8 10 11 12 18 19 21 22]\n",
            "number of chosen columns: 9\n"
          ]
        }
      ]
    },
    {
      "cell_type": "code",
      "source": [
        "X_train_selected = X_train[:,chosen_columns]\n",
        "X_test_selected = X_test[:,chosen_columns]\n",
        "X_train_scaled_selected = X_train_scaled[:,chosen_columns]\n",
        "X_test_scaled_selected = X_test_scaled[:,chosen_columns]"
      ],
      "metadata": {
        "id": "ukkJ6Di9rHSn"
      },
      "execution_count": null,
      "outputs": []
    },
    {
      "cell_type": "markdown",
      "source": [
        "**<h1>Model fitting to selected features:<h1>**"
      ],
      "metadata": {
        "id": "G_vZ3yoEdX5H"
      }
    },
    {
      "cell_type": "markdown",
      "source": [
        "**SVM**"
      ],
      "metadata": {
        "id": "eJenGdasdX5L"
      }
    },
    {
      "cell_type": "code",
      "source": [
        "ayoub_modelS = SVC(kernel='linear',random_state=42, probability = True)\n",
        "ayoub_modelS.fit(X_train_scaled_selected,y_train)\n"
      ],
      "metadata": {
        "id": "8E25Pq7AdX5N",
        "colab": {
          "base_uri": "https://localhost:8080/"
        },
        "outputId": "4adf8831-390f-4d21-dd46-73693186ed6c"
      },
      "execution_count": null,
      "outputs": [
        {
          "output_type": "execute_result",
          "data": {
            "text/plain": [
              "SVC(kernel='linear', probability=True, random_state=42)"
            ]
          },
          "metadata": {},
          "execution_count": 39
        }
      ]
    },
    {
      "cell_type": "markdown",
      "source": [
        "**KNN**"
      ],
      "metadata": {
        "id": "jfga_FXhdX5R"
      }
    },
    {
      "cell_type": "code",
      "source": [
        "from sklearn.neighbors import KNeighborsClassifier\n",
        "rabeb_model=KNeighborsClassifier(n_neighbors=1)\n",
        "rabeb_model.fit(X_train_scaled_selected,y_train)\n",
        "print(accuracy_score(y_test, rabeb_model.predict(X_test_scaled_selected)))"
      ],
      "metadata": {
        "id": "DWQhA9r0dX5T",
        "colab": {
          "base_uri": "https://localhost:8080/"
        },
        "outputId": "8821c8e1-7b34-4f51-dd58-039c5c92460c"
      },
      "execution_count": null,
      "outputs": [
        {
          "output_type": "stream",
          "name": "stdout",
          "text": [
            "0.9833333333333333\n"
          ]
        }
      ]
    },
    {
      "cell_type": "markdown",
      "source": [
        "**Decision Tree**"
      ],
      "metadata": {
        "id": "sha2l_JPdX5U"
      }
    },
    {
      "cell_type": "code",
      "source": [
        "salah_modelS = DecisionTreeClassifier(random_state = 42)\n",
        "salah_modelS.fit(X_train_selected, y_train)"
      ],
      "metadata": {
        "id": "yau1Xd_xdX5W",
        "colab": {
          "base_uri": "https://localhost:8080/"
        },
        "outputId": "44bfc76b-7b5e-4161-856c-8596887b7316"
      },
      "execution_count": null,
      "outputs": [
        {
          "output_type": "execute_result",
          "data": {
            "text/plain": [
              "DecisionTreeClassifier(random_state=42)"
            ]
          },
          "metadata": {},
          "execution_count": 41
        }
      ]
    },
    {
      "cell_type": "markdown",
      "source": [
        "**Random Forest**"
      ],
      "metadata": {
        "id": "a1ymjfg2dX5W"
      }
    },
    {
      "cell_type": "code",
      "source": [
        "karim_modelS = RandomForestClassifier(criterion = 'entropy', max_depth = 11, max_features = 'auto', min_samples_leaf = 2, min_samples_split = 3, n_estimators = 10,random_state=42)\n",
        "karim_modelS.fit(X_train_selected, y_train)"
      ],
      "metadata": {
        "id": "V1hmWlCbdX5Z",
        "colab": {
          "base_uri": "https://localhost:8080/"
        },
        "outputId": "41d2f2b1-1f01-4d63-8c52-8195dd4a676c"
      },
      "execution_count": null,
      "outputs": [
        {
          "output_type": "execute_result",
          "data": {
            "text/plain": [
              "RandomForestClassifier(criterion='entropy', max_depth=11, min_samples_leaf=2,\n",
              "                       min_samples_split=3, n_estimators=10, random_state=42)"
            ]
          },
          "metadata": {},
          "execution_count": 42
        }
      ]
    },
    {
      "cell_type": "markdown",
      "source": [
        "**<h1>Model evaluation with feature selection<h1>**"
      ],
      "metadata": {
        "id": "1qLeIc85dX5a"
      }
    },
    {
      "cell_type": "code",
      "source": [
        "# # Evaluate the model on the train set\n",
        "# accuracy_train = ayoub_model.score(X_train_scaled, y_train)\n",
        "# print('Accuracy on train:', accuracy_train)\n",
        "\n",
        "# # Evaluate the model on the test set\n",
        "# accuracy_test = ayoub_model.score(X_test_scaled, y_test)\n",
        "# print('Accuracy on train:', accuracy_test)"
      ],
      "metadata": {
        "id": "jqlPyTzQdX5b"
      },
      "execution_count": null,
      "outputs": []
    },
    {
      "cell_type": "code",
      "source": [
        "print(accuracy_score(y_test, ayoub_modelS.predict(X_test_scaled_selected)))\n",
        "print(accuracy_score(y_test, salah_modelS.predict(X_test_selected)))\n",
        "print(accuracy_score(y_test, karim_modelS.predict(X_test_selected)))\n",
        "print(accuracy_score(y_test, rabeb_model.predict(X_test_scaled_selected)))"
      ],
      "metadata": {
        "id": "EbNR3OcjdX5c",
        "colab": {
          "base_uri": "https://localhost:8080/"
        },
        "outputId": "dfef0251-ddc4-48ff-a866-6bce1fd7dcf2"
      },
      "execution_count": null,
      "outputs": [
        {
          "output_type": "stream",
          "name": "stdout",
          "text": [
            "0.975\n",
            "0.9916666666666667\n",
            "0.9916666666666667\n",
            "0.9833333333333333\n"
          ]
        }
      ]
    },
    {
      "cell_type": "code",
      "source": [
        "from sklearn.metrics import classification_report\n",
        "print(f\"\"\"Classification Report :\n",
        "\\n\\033[1;31mSVM\\033[\n",
        "\\n {classification_report(y_test, ayoub_modelS.predict(X_test_scaled_selected))}\n",
        "\\033[1;31mKNN\\033[ \n",
        "\\n {classification_report(y_test, rabeb_model.predict(X_test_scaled_selected))}\n",
        "\\033[1;31mDecision Tree\\033[ \n",
        "\\n {classification_report(y_test, salah_modelS.predict(X_test_selected))}\n",
        "\\033[1;31mRandom Forest\\033[\n",
        "\\n {classification_report(y_test, karim_modelS.predict(X_test_selected))}\"\"\")\n"
      ],
      "metadata": {
        "id": "eV_BBD0zdX5d",
        "colab": {
          "base_uri": "https://localhost:8080/"
        },
        "outputId": "4b6c7ce4-ee9b-47f5-9a32-6e35fe6cb17e"
      },
      "execution_count": null,
      "outputs": [
        {
          "output_type": "stream",
          "name": "stdout",
          "text": [
            "Classification Report :\n",
            "\n",
            "\u001b[1;31mSVM\u001b[\n",
            "\n",
            "               precision    recall  f1-score   support\n",
            "\n",
            "         0.0       0.93      1.00      0.97        42\n",
            "         1.0       1.00      0.96      0.98        78\n",
            "\n",
            "    accuracy                           0.97       120\n",
            "   macro avg       0.97      0.98      0.97       120\n",
            "weighted avg       0.98      0.97      0.98       120\n",
            "\n",
            "\u001b[1;31mKNN\u001b[ \n",
            "\n",
            "               precision    recall  f1-score   support\n",
            "\n",
            "         0.0       0.95      1.00      0.98        42\n",
            "         1.0       1.00      0.97      0.99        78\n",
            "\n",
            "    accuracy                           0.98       120\n",
            "   macro avg       0.98      0.99      0.98       120\n",
            "weighted avg       0.98      0.98      0.98       120\n",
            "\n",
            "\u001b[1;31mDecision Tree\u001b[ \n",
            "\n",
            "               precision    recall  f1-score   support\n",
            "\n",
            "         0.0       0.98      1.00      0.99        42\n",
            "         1.0       1.00      0.99      0.99        78\n",
            "\n",
            "    accuracy                           0.99       120\n",
            "   macro avg       0.99      0.99      0.99       120\n",
            "weighted avg       0.99      0.99      0.99       120\n",
            "\n",
            "\u001b[1;31mRandom Forest\u001b[\n",
            "\n",
            "               precision    recall  f1-score   support\n",
            "\n",
            "         0.0       1.00      0.98      0.99        42\n",
            "         1.0       0.99      1.00      0.99        78\n",
            "\n",
            "    accuracy                           0.99       120\n",
            "   macro avg       0.99      0.99      0.99       120\n",
            "weighted avg       0.99      0.99      0.99       120\n",
            "\n"
          ]
        }
      ]
    },
    {
      "cell_type": "code",
      "source": [
        "from sklearn import metrics\n",
        "\n",
        "confusion_matrix1 = metrics.confusion_matrix(y_test, ayoub_modelS.predict(X_test_scaled_selected))\n",
        "matrix_df1 = pd.DataFrame(confusion_matrix1)\n",
        "\n",
        "confusion_matrix2 = metrics.confusion_matrix(y_test, rabeb_model.predict(X_test_scaled_selected))\n",
        "matrix_df2 = pd.DataFrame(confusion_matrix2)\n",
        "\n",
        "confusion_matrix3 = metrics.confusion_matrix(y_test, salah_modelS.predict(X_test_selected))\n",
        "matrix_df3 = pd.DataFrame(confusion_matrix3)\n",
        "\n",
        "confusion_matrix4 = metrics.confusion_matrix(y_test, karim_modelS.predict(X_test_selected))\n",
        "matrix_df4 = pd.DataFrame(confusion_matrix4)\n",
        "\n",
        "# Create a figure with subplots\n",
        "fig, axs = plt.subplots(2, 2, figsize=(20, 15))\n",
        "\n",
        "# Plot the first confusion matrix\n",
        "sns.set(font_scale=1.3)\n",
        "sns.heatmap(matrix_df1, annot=True, fmt=\"g\", ax=axs[0,0], cmap=\"magma\")\n",
        "axs[0,0].set_title('Confusion Matrix - SVM')\n",
        "axs[0,0].set_xlabel(\"Predicted label\", fontsize =15)\n",
        "axs[0,0].set_xticklabels([\"ckd\",\"notckd\"])\n",
        "axs[0,0].set_ylabel(\"True Label\", fontsize=15)\n",
        "axs[0,0].set_yticklabels([\"ckd\",\"notckd\"], rotation = 0)\n",
        "\n",
        "\n",
        "# # Repeat for the second and third confusion matrices\n",
        "sns.set(font_scale=1.3)\n",
        "sns.heatmap(matrix_df2, annot=True, fmt=\"g\", ax=axs[0,1], cmap=\"magma\")\n",
        "axs[0,1].set_title('Confusion Matrix - KNN')\n",
        "axs[0,1].set_xlabel(\"Predicted label\", fontsize =15)\n",
        "axs[0,1].set_xticklabels([\"ckd\",\"notckd\"])\n",
        "axs[0,1].set_ylabel(\"True Label\", fontsize=15)\n",
        "axs[0,1].set_yticklabels([\"ckd\",\"notckd\"], rotation = 0)\n",
        "\n",
        "sns.set(font_scale=1.3)\n",
        "sns.heatmap(matrix_df3, annot=True, fmt=\"g\", ax=axs[1,0], cmap=\"magma\")\n",
        "axs[1,0].set_title('Confusion Matrix - Decision Tree')\n",
        "axs[1,0].set_xlabel(\"Predicted label\", fontsize =15)\n",
        "axs[1,0].set_xticklabels([\"ckd\",\"notckd\"])\n",
        "axs[1,0].set_ylabel(\"True Label\", fontsize=15)\n",
        "axs[1,0].set_yticklabels([\"ckd\",\"notckd\"], rotation = 0)\n",
        "\n",
        "sns.set(font_scale=1.3)\n",
        "sns.heatmap(matrix_df4, annot=True, fmt=\"g\", ax=axs[1,1], cmap=\"magma\")\n",
        "axs[1,1].set_title('Confusion Matrix - Random Forest')\n",
        "axs[1,1].set_xlabel(\"Predicted label\", fontsize =15)\n",
        "axs[1,1].set_xticklabels([\"ckd\",\"notckd\"])\n",
        "axs[1,1].set_ylabel(\"True Label\", fontsize=15)\n",
        "axs[1,1].set_yticklabels([\"ckd\",\"notckd\"], rotation = 0)\n",
        "\n",
        "# Show the plot\n",
        "plt.show()"
      ],
      "metadata": {
        "id": "e847fM2mdX5e",
        "colab": {
          "base_uri": "https://localhost:8080/",
          "height": 907
        },
        "outputId": "eea3d135-0a1a-4dc1-9465-d5d5875b6356"
      },
      "execution_count": null,
      "outputs": [
        {
          "output_type": "display_data",
          "data": {
            "text/plain": [
              "<Figure size 1440x1080 with 8 Axes>"
            ],
            "image/png": "[encoded data removed]"
          },
          "metadata": {}
        }
      ]
    },
    {
      "cell_type": "code",
      "source": [
        "#Decision Tree plot\n",
        "from sklearn import tree \n",
        "fig, ax = plt.subplots(figsize=(15,15))\n",
        "tree.plot_tree(salah_modelS, feature_names = list(x1.columns[rfecv.support_]), class_names =[\"ckd\",\"notckd\"], filled=True)"
      ],
      "metadata": {
        "colab": {
          "base_uri": "https://localhost:8080/",
          "height": 1000
        },
        "id": "gnVf0HTwWLck",
        "outputId": "1a8ee938-8b00-4b87-c55d-690a1119a372"
      },
      "execution_count": null,
      "outputs": [
        {
          "output_type": "execute_result",
          "data": {
            "text/plain": [
              "[Text(0.6153846153846154, 0.95, 'hemo <= 12.95\\ngini = 0.474\\nsamples = 280\\nvalue = [108, 172]\\nclass = notckd'),\n",
              " Text(0.46153846153846156, 0.85, 'rbcc <= 5.65\\ngini = 0.06\\nsamples = 162\\nvalue = [5, 157]\\nclass = notckd'),\n",
              " Text(0.38461538461538464, 0.75, 'pcv <= 41.5\\ngini = 0.037\\nsamples = 160\\nvalue = [3, 157]\\nclass = notckd'),\n",
              " Text(0.15384615384615385, 0.65, 'hemo <= 12.513\\ngini = 0.025\\nsamples = 155\\nvalue = [2, 153]\\nclass = notckd'),\n",
              " Text(0.07692307692307693, 0.55, 'gini = 0.0\\nsamples = 108\\nvalue = [0, 108]\\nclass = notckd'),\n",
              " Text(0.23076923076923078, 0.55, 'sg_Imputed <= 1.017\\ngini = 0.081\\nsamples = 47\\nvalue = [2, 45]\\nclass = notckd'),\n",
              " Text(0.15384615384615385, 0.45, 'gini = 0.0\\nsamples = 27\\nvalue = [0, 27]\\nclass = notckd'),\n",
              " Text(0.3076923076923077, 0.45, 'dm_Imputed <= 0.5\\ngini = 0.18\\nsamples = 20\\nvalue = [2, 18]\\nclass = notckd'),\n",
              " Text(0.23076923076923078, 0.35, 'appet_Imputed <= 0.5\\ngini = 0.298\\nsamples = 11\\nvalue = [2, 9]\\nclass = notckd'),\n",
              " Text(0.15384615384615385, 0.25, 'gini = 0.0\\nsamples = 5\\nvalue = [0, 5]\\nclass = notckd'),\n",
              " Text(0.3076923076923077, 0.25, 'pe_Imputed <= 0.5\\ngini = 0.444\\nsamples = 6\\nvalue = [2, 4]\\nclass = notckd'),\n",
              " Text(0.23076923076923078, 0.15, 'htn_Imputed <= 0.5\\ngini = 0.5\\nsamples = 4\\nvalue = [2, 2]\\nclass = ckd'),\n",
              " Text(0.15384615384615385, 0.05, 'gini = 0.0\\nsamples = 2\\nvalue = [2, 0]\\nclass = ckd'),\n",
              " Text(0.3076923076923077, 0.05, 'gini = 0.0\\nsamples = 2\\nvalue = [0, 2]\\nclass = notckd'),\n",
              " Text(0.38461538461538464, 0.15, 'gini = 0.0\\nsamples = 2\\nvalue = [0, 2]\\nclass = notckd'),\n",
              " Text(0.38461538461538464, 0.35, 'gini = 0.0\\nsamples = 9\\nvalue = [0, 9]\\nclass = notckd'),\n",
              " Text(0.6153846153846154, 0.65, 'pcv <= 42.5\\ngini = 0.32\\nsamples = 5\\nvalue = [1, 4]\\nclass = notckd'),\n",
              " Text(0.5384615384615384, 0.55, 'appet_Imputed <= 0.5\\ngini = 0.5\\nsamples = 2\\nvalue = [1, 1]\\nclass = ckd'),\n",
              " Text(0.46153846153846156, 0.45, 'gini = 0.0\\nsamples = 1\\nvalue = [0, 1]\\nclass = notckd'),\n",
              " Text(0.6153846153846154, 0.45, 'gini = 0.0\\nsamples = 1\\nvalue = [1, 0]\\nclass = ckd'),\n",
              " Text(0.6923076923076923, 0.55, 'gini = 0.0\\nsamples = 3\\nvalue = [0, 3]\\nclass = notckd'),\n",
              " Text(0.5384615384615384, 0.75, 'gini = 0.0\\nsamples = 2\\nvalue = [2, 0]\\nclass = ckd'),\n",
              " Text(0.7692307692307693, 0.85, 'sg_Imputed <= 1.017\\ngini = 0.222\\nsamples = 118\\nvalue = [103, 15]\\nclass = ckd'),\n",
              " Text(0.6923076923076923, 0.75, 'gini = 0.0\\nsamples = 13\\nvalue = [0, 13]\\nclass = notckd'),\n",
              " Text(0.8461538461538461, 0.75, 'al_Imputed <= 0.5\\ngini = 0.037\\nsamples = 105\\nvalue = [103, 2]\\nclass = ckd'),\n",
              " Text(0.7692307692307693, 0.65, 'gini = 0.0\\nsamples = 103\\nvalue = [103, 0]\\nclass = ckd'),\n",
              " Text(0.9230769230769231, 0.65, 'gini = 0.0\\nsamples = 2\\nvalue = [0, 2]\\nclass = notckd')]"
            ]
          },
          "metadata": {},
          "execution_count": 47
        },
        {
          "output_type": "display_data",
          "data": {
            "text/plain": [
              "<Figure size 1080x1080 with 1 Axes>"
            ],
            "image/png": "[encoded data removed]"
          },
          "metadata": {}
        }
      ]
    },
    {
      "cell_type": "markdown",
      "source": [
        "ADABOOST"
      ],
      "metadata": {
        "id": "DYGzagbgsEUR"
      }
    },
    {
      "cell_type": "code",
      "source": [
        "from numpy.ma.core import shape\n",
        "from sklearn.ensemble import AdaBoostClassifier\n",
        "\n",
        "svm = SVC(kernel='linear', probability = True)\n",
        "ayoub_ada = AdaBoostClassifier(base_estimator = svm)\n",
        "ayoub_ada.fit(X_train_scaled_selected, y_train)\n",
        "\n",
        "\n",
        "# accuracy score, confusion matrix and classification report of ada boost\n",
        "\n",
        "ada_acc1 = accuracy_score(y_test, ayoub_ada.predict(X_test_scaled_selected)) \n",
        "\n",
        "print(f\"Training Accuracy of Ada Boost Classifier is {accuracy_score(y_train, ayoub_ada.predict(X_train_scaled_selected))}\")\n",
        "print(f\"Test Accuracy of Ada Boost Classifier is {ada_acc1} \\n\")\n",
        "\n",
        "print(f\"Confusion Matrix :- \\n{metrics.confusion_matrix(y_test, ayoub_ada.predict(X_test_scaled_selected))}\\n\")"
      ],
      "metadata": {
        "id": "qpJbNchDsDr6",
        "colab": {
          "base_uri": "https://localhost:8080/"
        },
        "outputId": "6cd60230-18f5-45b1-bc0b-7a883c419e28"
      },
      "execution_count": null,
      "outputs": [
        {
          "output_type": "stream",
          "name": "stdout",
          "text": [
            "Training Accuracy of Ada Boost Classifier is 1.0\n",
            "Test Accuracy of Ada Boost Classifier is 0.9833333333333333 \n",
            "\n",
            "Confusion Matrix :- \n",
            "[[42  0]\n",
            " [ 2 76]]\n",
            "\n"
          ]
        }
      ]
    },
    {
      "cell_type": "markdown",
      "source": [
        "Fit function "
      ],
      "metadata": {
        "id": "wHBG0l0VqUsh"
      }
    },
    {
      "cell_type": "code",
      "source": [
        "def fit(self, X, y, sample_weight):\n",
        "  #self._validate_params()\n",
        "  self.sample_weight=sample_weight\n",
        "  self.X=X\n",
        "  return self._fit(X, y)"
      ],
      "metadata": {
        "id": "xVgXSmVVsDue"
      },
      "execution_count": null,
      "outputs": []
    },
    {
      "cell_type": "code",
      "source": [
        "setattr(KNeighborsClassifier,'fit', fit)\n",
        "KNeighborsClassifier.__dict__[\"fit\"]"
      ],
      "metadata": {
        "id": "weRXcB6BqYUa",
        "colab": {
          "base_uri": "https://localhost:8080/"
        },
        "outputId": "ed15d289-04eb-4740-c97b-2ccdbc1310d6"
      },
      "execution_count": null,
      "outputs": [
        {
          "output_type": "execute_result",
          "data": {
            "text/plain": [
              "<function __main__.fit(self, X, y, sample_weight)>"
            ]
          },
          "metadata": {},
          "execution_count": 50
        }
      ]
    },
    {
      "cell_type": "markdown",
      "source": [
        "Predict function"
      ],
      "metadata": {
        "id": "riZpCxKgqePA"
      }
    },
    {
      "cell_type": "code",
      "source": [
        "def predict(self, X):\n",
        "\n",
        "        y_pred = []\n",
        "\n",
        "        # Iterate over the samples in X\n",
        "        for x in X:\n",
        "            # Calculate the distances between x and the training samples\n",
        "            distances = np.sqrt(np.sum((self.X - x) ** 2, axis=1))\n",
        "\n",
        "            # Sort the samples by distance and get the indices of the k-nearest neighbors\n",
        "            k_neighbors = np.argsort(distances)[:self.n_neighbors]\n",
        "\n",
        "            # Get the labels of the k-nearest neighbors\n",
        "            k_neighbor_labels = self.y[k_neighbors]\n",
        "\n",
        "            # Calculate the weighted average of the labels using the sample weights\n",
        "            if self.sample_weight is not None:\n",
        "            \n",
        "                weights = self.sample_weight[k_neighbors]\n",
        "\n",
        "                weighted_average = np.average(k_neighbor_labels, weights=weights)\n",
        "                y_pred.append(weighted_average)\n",
        "            else:\n",
        "                weighted_average = np.mean(k_neighbor_labels)\n",
        "\n",
        "                # Append the predicted label for x to the list of predictions\n",
        "                y_pred.append(weighted_average)\n",
        "\n",
        "        # Return the list of predictions\n",
        "        return np.array(y_pred)"
      ],
      "metadata": {
        "id": "IndeB0GVqfY8"
      },
      "execution_count": null,
      "outputs": []
    },
    {
      "cell_type": "code",
      "source": [
        "setattr(KNeighborsClassifier,'predict',predict)\n",
        "KNeighborsClassifier.__dict__[\"predict\"]"
      ],
      "metadata": {
        "id": "1KV7n0AfqkUt",
        "colab": {
          "base_uri": "https://localhost:8080/"
        },
        "outputId": "9bcf64b2-25f2-46aa-c392-865a4abe6ec1"
      },
      "execution_count": null,
      "outputs": [
        {
          "output_type": "execute_result",
          "data": {
            "text/plain": [
              "<function __main__.predict(self, X)>"
            ]
          },
          "metadata": {},
          "execution_count": 52
        }
      ]
    },
    {
      "cell_type": "markdown",
      "source": [
        "Predict_proba function"
      ],
      "metadata": {
        "id": "KKBhI0Jaqn5x"
      }
    },
    {
      "cell_type": "code",
      "source": [
        "def predict_proba(self, X):\n",
        "        y_proba = []\n",
        "\n",
        "        # # Iterate over the samples in X\n",
        "        for x in X:\n",
        "            #     # Calculate the distances between x and the training samples\n",
        "            distances = np.sqrt(np.sum((self.X - x) ** 2, axis=1))\n",
        "\n",
        "            # Sort the samples by distance and get the indices of the k-nearest neighbors\n",
        "            k_neighbors = np.argsort(distances)[:self.n_neighbors]\n",
        "\n",
        "            # Get the labels of the k-nearest neighbors\n",
        "            k_neighbor_labels = self._y[k_neighbors]\n",
        "            sample_weight = self.sample_weight\n",
        "            # Calculate the weighted average of the probabilities of the labels using the sample weights\n",
        "            weighted_average = np.mean(k_neighbor_labels)\n",
        "            if sample_weight is not None:\n",
        "                 #class_weights = [0.5  if i==0 else 2 for i in y_train ]\n",
        "                 #weights[weights == 0] = 0.1\n",
        "                 weights = sample_weight[k_neighbors]\n",
        "                 #print(weights)\n",
        "                 # Replace any zero weights with a small non-zero value\n",
        "                 weights[weights == 0] = 0.1\n",
        "                 weighted_average = np.average(k_neighbor_labels, weights=weights)\n",
        "            else:\n",
        "                 weighted_average = np.mean(k_neighbor_labels)\n",
        "            y_proba.append([1 - weighted_average, weighted_average])\n",
        "\n",
        "            \n",
        "        # Return the list of predicted probabilities\n",
        "        return np.array(y_proba)"
      ],
      "metadata": {
        "id": "C1lsc_fLqmlF"
      },
      "execution_count": null,
      "outputs": []
    },
    {
      "cell_type": "code",
      "source": [
        "setattr(KNeighborsClassifier,'predict_proba',predict_proba)\n",
        "KNeighborsClassifier.__dict__[\"predict_proba\"]"
      ],
      "metadata": {
        "id": "dEZG4v26qq9S",
        "colab": {
          "base_uri": "https://localhost:8080/"
        },
        "outputId": "2c6dfdd5-2a0c-4c92-ed13-4ef304cecea1"
      },
      "execution_count": null,
      "outputs": [
        {
          "output_type": "execute_result",
          "data": {
            "text/plain": [
              "<function __main__.predict_proba(self, X)>"
            ]
          },
          "metadata": {},
          "execution_count": 54
        }
      ]
    },
    {
      "cell_type": "code",
      "source": [
        "from sklearn.ensemble import AdaBoostClassifier\n",
        "from sklearn.metrics import classification_report,confusion_matrix,accuracy_score,plot_confusion_matrix\n",
        "# Create a k-NN classifier\n",
        "knn = KNeighborsClassifier(n_neighbors=3)\n",
        "# Create an AdaBoost classifier\n",
        "ada =AdaBoostClassifier(base_estimator=knn, learning_rate=1,algorithm='SAMME.R')\n",
        "# Fit the classifier to the training data\n",
        "ada.fit(X_train_scaled_selected,y_train)\n",
        "# Make predictions on the test set\n",
        "y_pred = ada.predict(X_test_scaled_selected)\n",
        "print('Accuracy:', accuracy_score(y_test, y_pred))\n",
        "print(f\"Confusion Matrix :- \\n{metrics.confusion_matrix(y_test,ada.predict(X_test_scaled_selected))}\\n\")\n",
        "plot_confusion_matrix(ada, X_test_scaled_selected, y_test)"
      ],
      "metadata": {
        "id": "uTD-ePHQqtY1",
        "colab": {
          "base_uri": "https://localhost:8080/",
          "height": 450
        },
        "outputId": "1d2eec4a-5fa7-412a-d471-cb282e947839"
      },
      "execution_count": null,
      "outputs": [
        {
          "output_type": "stream",
          "name": "stdout",
          "text": [
            "Accuracy: 0.9916666666666667\n",
            "Confusion Matrix :- \n",
            "[[42  0]\n",
            " [ 1 77]]\n",
            "\n"
          ]
        },
        {
          "output_type": "stream",
          "name": "stderr",
          "text": [
            "/usr/local/lib/python3.8/dist-packages/sklearn/utils/deprecation.py:87: FutureWarning: Function plot_confusion_matrix is deprecated; Function `plot_confusion_matrix` is deprecated in 1.0 and will be removed in 1.2. Use one of the class methods: ConfusionMatrixDisplay.from_predictions or ConfusionMatrixDisplay.from_estimator.\n",
            "  warnings.warn(msg, category=FutureWarning)\n"
          ]
        },
        {
          "output_type": "execute_result",
          "data": {
            "text/plain": [
              "<sklearn.metrics._plot.confusion_matrix.ConfusionMatrixDisplay at 0x7f53cb749df0>"
            ]
          },
          "metadata": {},
          "execution_count": 55
        },
        {
          "output_type": "display_data",
          "data": {
            "text/plain": [
              "<Figure size 432x288 with 2 Axes>"
            ],
            "image/png": "[encoded data removed]"
          },
          "metadata": {}
        }
      ]
    },
    {
      "cell_type": "code",
      "source": [
        "salah_ada = AdaBoostClassifier(base_estimator = salah_modelS)\n",
        "salah_ada.fit(X_train_selected, y_train)\n",
        "\n",
        "# accuracy score, confusion matrix and classification report of ada boost\n",
        "\n",
        "ada_acc3 = accuracy_score(y_test, salah_ada.predict(X_test_selected))\n",
        "\n",
        "print(f\"Training Accuracy of Ada Boost Classifier is {accuracy_score(y_train, salah_ada.predict(X_train_selected))}\")\n",
        "print(f\"Test Accuracy of Ada Boost Classifier is {ada_acc3} \\n\")\n",
        "\n",
        "print(f\"Confusion Matrix :- \\n{metrics.confusion_matrix(y_test, salah_ada.predict(X_test_selected))}\\n\")"
      ],
      "metadata": {
        "id": "hha7xi_CwTvH",
        "colab": {
          "base_uri": "https://localhost:8080/"
        },
        "outputId": "0079f0ad-0bc6-4f04-c30d-49e3aa7d0178"
      },
      "execution_count": null,
      "outputs": [
        {
          "output_type": "stream",
          "name": "stdout",
          "text": [
            "Training Accuracy of Ada Boost Classifier is 1.0\n",
            "Test Accuracy of Ada Boost Classifier is 0.9916666666666667 \n",
            "\n",
            "Confusion Matrix :- \n",
            "[[42  0]\n",
            " [ 1 77]]\n",
            "\n"
          ]
        }
      ]
    },
    {
      "cell_type": "code",
      "source": [
        "rfc = RandomForestClassifier(criterion = 'entropy', max_depth = 11, max_features = 'auto', min_samples_leaf = 2, min_samples_split = 3, n_estimators = 10,random_state=42)\n",
        "\n",
        "karim_ada = AdaBoostClassifier(base_estimator = rfc)\n",
        "karim_ada.fit(X_train_selected, y_train)\n",
        "\n",
        "# accuracy score, confusion matrix and classification report of ada boost\n",
        "\n",
        "ada_acc4 = accuracy_score(y_test, karim_ada.predict(X_test_selected))\n",
        "\n",
        "print(f\"Training Accuracy of Ada Boost Classifier is {accuracy_score(y_train, karim_ada.predict(X_train_selected))}\")\n",
        "print(f\"Test Accuracy of Ada Boost Classifier is {ada_acc4} \\n\")\n",
        "\n",
        "print(f\"Confusion Matrix :- \\n{metrics.confusion_matrix(y_test, karim_ada.predict(X_test_selected))}\\n\")"
      ],
      "metadata": {
        "id": "2wUoa3fCtn3M",
        "colab": {
          "base_uri": "https://localhost:8080/"
        },
        "outputId": "5e98b63a-ad35-4fdf-d1fd-fe2338ee3ed7"
      },
      "execution_count": null,
      "outputs": [
        {
          "output_type": "stream",
          "name": "stdout",
          "text": [
            "Training Accuracy of Ada Boost Classifier is 1.0\n",
            "Test Accuracy of Ada Boost Classifier is 1.0 \n",
            "\n",
            "Confusion Matrix :- \n",
            "[[42  0]\n",
            " [ 0 78]]\n",
            "\n"
          ]
        }
      ]
    },
    {
      "cell_type": "code",
      "source": [
        "print(f\"Classification Report :\\n\\033[1;31mSVM\\033[\\n {classification_report(y_test, ayoub_ada.predict(X_test_scaled_selected))}\")\n",
        "print(f\"\\033[1;31mDecision Tree\\033[\\n {classification_report(y_test, y_pred)}\")\n",
        "print(f\"\\033[1;31mDecision Tree\\033[\\n {classification_report(y_test, salah_ada.predict(X_test_selected))}\")\n",
        "print(f\"\\033[1;31mRandom Forest\\033[\\n {classification_report(y_test, karim_ada.predict(X_test_selected))}\")"
      ],
      "metadata": {
        "id": "i3uedOT27Kmb",
        "colab": {
          "base_uri": "https://localhost:8080/"
        },
        "outputId": "c3fece00-e872-40a7-979e-c1b7297fea72"
      },
      "execution_count": null,
      "outputs": [
        {
          "output_type": "stream",
          "name": "stdout",
          "text": [
            "Classification Report :\n",
            "\u001b[1;31mSVM\u001b[\n",
            "               precision    recall  f1-score   support\n",
            "\n",
            "         0.0       0.95      1.00      0.98        42\n",
            "         1.0       1.00      0.97      0.99        78\n",
            "\n",
            "    accuracy                           0.98       120\n",
            "   macro avg       0.98      0.99      0.98       120\n",
            "weighted avg       0.98      0.98      0.98       120\n",
            "\n",
            "\u001b[1;31mDecision Tree\u001b[\n",
            "               precision    recall  f1-score   support\n",
            "\n",
            "         0.0       0.98      1.00      0.99        42\n",
            "         1.0       1.00      0.99      0.99        78\n",
            "\n",
            "    accuracy                           0.99       120\n",
            "   macro avg       0.99      0.99      0.99       120\n",
            "weighted avg       0.99      0.99      0.99       120\n",
            "\n",
            "\u001b[1;31mDecision Tree\u001b[\n",
            "               precision    recall  f1-score   support\n",
            "\n",
            "         0.0       0.98      1.00      0.99        42\n",
            "         1.0       1.00      0.99      0.99        78\n",
            "\n",
            "    accuracy                           0.99       120\n",
            "   macro avg       0.99      0.99      0.99       120\n",
            "weighted avg       0.99      0.99      0.99       120\n",
            "\n",
            "\u001b[1;31mRandom Forest\u001b[\n",
            "               precision    recall  f1-score   support\n",
            "\n",
            "         0.0       1.00      1.00      1.00        42\n",
            "         1.0       1.00      1.00      1.00        78\n",
            "\n",
            "    accuracy                           1.00       120\n",
            "   macro avg       1.00      1.00      1.00       120\n",
            "weighted avg       1.00      1.00      1.00       120\n",
            "\n"
          ]
        }
      ]
    }
  ]
}